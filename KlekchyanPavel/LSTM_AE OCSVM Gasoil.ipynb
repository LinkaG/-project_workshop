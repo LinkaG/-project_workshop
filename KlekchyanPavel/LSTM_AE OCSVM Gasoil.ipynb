{
 "cells": [
  {
   "cell_type": "code",
   "execution_count": 101,
   "id": "f8bc91e7",
   "metadata": {},
   "outputs": [],
   "source": [
    "import pandas as pd\n",
    "import numpy as np\n",
    "import matplotlib.pyplot as plt\n",
    "\n",
    "import keras\n",
    "from sklearn import preprocessing\n",
    "from keras.models import Sequential\n",
    "from keras.layers import Dense, Dropout, LSTM, Activation, Embedding\n",
    "\n",
    "from tensorflow.keras.optimizers import Adam, RMSprop\n",
    "from keras.layers import Input, Reshape, Dropout\n",
    "from keras import Model\n",
    "\n",
    "# from keras.utils import plot_model\n",
    "from keras.layers import RepeatVector, TimeDistributed\n",
    "from keras.callbacks import ModelCheckpoint, TensorBoard\n",
    "\n",
    "import math\n",
    "from tqdm import tqdm\n",
    "from sklearn.preprocessing import StandardScaler\n",
    "from sklearn.metrics import classification_report, f1_score"
   ]
  },
  {
   "cell_type": "code",
   "execution_count": 102,
   "id": "88bcee10",
   "metadata": {},
   "outputs": [],
   "source": [
    "from sklearn.preprocessing import MinMaxScaler"
   ]
  },
  {
   "cell_type": "code",
   "execution_count": 103,
   "id": "d5d44cd9",
   "metadata": {},
   "outputs": [],
   "source": [
    "import warnings\n",
    "warnings.filterwarnings(\"ignore\")"
   ]
  },
  {
   "cell_type": "code",
   "execution_count": 104,
   "id": "1a2522cf",
   "metadata": {},
   "outputs": [],
   "source": [
    "df = pd.read_csv('datasets/GHL/train_1500000_seed_11_vars_23.csv')[10000:]\n",
    "df_test1 = pd.read_csv('datasets/GHL/40_Lev_corr_Temp_fault_seed_180_vars_23.csv')[10000:]\n",
    "df_test2 = pd.read_csv('datasets/GHL/19_Lev_fault_Temp_corr_seed_62_vars_23.csv')[10000:]\n",
    "df_test3 = pd.read_csv('datasets/GHL/04_Lev_fault_Temp_corr_seed_23_vars_23.csv')[10000:]"
   ]
  },
  {
   "cell_type": "code",
   "execution_count": 106,
   "id": "f229df4d",
   "metadata": {},
   "outputs": [],
   "source": [
    "y1 = df_test1['ATTACK']\n",
    "y2 = df_test2['ATTACK']\n",
    "y3 = df_test3['ATTACK']\n",
    "\n",
    "# Все нужные признаки по мнению авторов\n",
    "all_cols = ['RT_level', 'RT_temperature.T', 'HT_temperature.T','inj_valve_act', 'heater_act']\n",
    "# Числовые признаки\n",
    "num_cols = ['RT_level', 'RT_temperature.T', 'HT_temperature.T']\n",
    "# Категориальные признаки\n",
    "cat_cols = ['inj_valve_act', 'heater_act']\n",
    "\n",
    "df = df[all_cols]\n",
    "df_test1 = df_test1[all_cols]\n",
    "df_test2 = df_test2[all_cols]\n",
    "df_test3 = df_test3[all_cols]"
   ]
  },
  {
   "cell_type": "markdown",
   "id": "7b2e0aa4",
   "metadata": {},
   "source": [
    "### Анализ данных"
   ]
  },
  {
   "cell_type": "code",
   "execution_count": 107,
   "id": "4b4b240e",
   "metadata": {},
   "outputs": [
    {
     "name": "stdout",
     "output_type": "stream",
     "text": [
      "inj_valve_act -- df - [1.0, 0.0] | df_test1 - [1.0, 0.0] | df_test2 - [1.0, 0.0] | df_test3 - [1.0, 0.0]\n",
      "heater_act -- df - [0.0, 1.0] | df_test1 - [0.0, 1.0] | df_test2 - [0.0, 1.0] | df_test3 - [0.0, 1.0]\n"
     ]
    }
   ],
   "source": [
    "for i in cat_cols:\n",
    "    val = list(df[i].unique())\n",
    "    val1 = list(df_test1[i].unique())    \n",
    "    val2 = list(df_test2[i].unique())    \n",
    "    val3 = list(df_test3[i].unique())\n",
    "    print(i, '-- df -', val, '| df_test1 -', val1, '| df_test2 -', val2,'| df_test3 -', val3)"
   ]
  },
  {
   "cell_type": "markdown",
   "id": "7adb6a22",
   "metadata": {},
   "source": [
    "<b> Все категориальные признаки одинаковые и в Train, и в Test выборках"
   ]
  },
  {
   "cell_type": "markdown",
   "id": "e2cbeecc",
   "metadata": {},
   "source": [
    "### Preprocessing"
   ]
  },
  {
   "cell_type": "code",
   "execution_count": 108,
   "id": "fa7a76dd",
   "metadata": {},
   "outputs": [],
   "source": [
    "def preprocessing(data, window_size=3):\n",
    "    # OneHot Категориальных признаков\n",
    "#     data = pd.get_dummies(data, columns=['boundary.m_flow_in'])\n",
    "    \n",
    "    # Скалирование числовых признаков\n",
    "    sc = StandardScaler()\n",
    "    data_sc = sc.fit_transform(data[num_cols])\n",
    "    data[num_cols] = data_sc\n",
    "    \n",
    "    # Окно\n",
    "    data_w = data.values[np.arange(window_size)[None, :] + np.arange(data.shape[0]-window_size)[:, None]]\n",
    "    return data_w"
   ]
  },
  {
   "cell_type": "code",
   "execution_count": 109,
   "id": "6cdfa205",
   "metadata": {},
   "outputs": [],
   "source": [
    "df_w = preprocessing(df[:500000], window_size=12)\n",
    "df_test1_w = preprocessing(df_test1, window_size=12)\n",
    "df_test2_w = preprocessing(df_test2, window_size=12)\n",
    "df_test3_w = preprocessing(df_test3, window_size=12)\n",
    "\n",
    "df_train_w = preprocessing(df[500000:700000], window_size=12)"
   ]
  },
  {
   "cell_type": "markdown",
   "id": "6dd8e83e",
   "metadata": {},
   "source": [
    "### Модель"
   ]
  },
  {
   "cell_type": "code",
   "execution_count": 112,
   "id": "a1e5ed76",
   "metadata": {},
   "outputs": [],
   "source": [
    "def init_model(timesteps, n_features, num_cells=64, dropout_rate=0.1, lr=0.01):\n",
    "    lstm_autoencoder = Sequential()\n",
    "    # Encoder\n",
    "    lstm_autoencoder.add(LSTM(64, activation='tanh', input_shape=(timesteps, n_features), return_sequences=True))\n",
    "    lstm_autoencoder.add(LSTM(8, activation='tanh', return_sequences=False))\n",
    "    lstm_autoencoder.add(RepeatVector(timesteps))\n",
    "    # Decoder\n",
    "    lstm_autoencoder.add(LSTM(8, activation='tanh', return_sequences=True))\n",
    "    lstm_autoencoder.add(LSTM(64, activation='tanh', return_sequences=True))\n",
    "    lstm_autoencoder.add(TimeDistributed(Dense(n_features)))\n",
    "\n",
    "    adam = Adam(lr)\n",
    "    lstm_autoencoder.compile(loss='mse', optimizer=adam)\n",
    "\n",
    "    cp = ModelCheckpoint(filepath=\"lstm_autoencoder_classifier.h5\",\n",
    "                                   save_best_only=True,\n",
    "                                   verbose=0)\n",
    "\n",
    "    tb = TensorBoard(log_dir='./logs',\n",
    "                    histogram_freq=0,\n",
    "                    write_graph=True,\n",
    "                    write_images=True)\n",
    "    return lstm_autoencoder\n",
    "\n",
    "def fit_model(x, model, epochs=5, batch_size=1000, validation_split=0.2):\n",
    "    lstm_autoencoder_history = model.fit(x, x, \n",
    "                        epochs=epochs, \n",
    "                        batch_size=batch_size, \n",
    "                        validation_split=validation_split,\n",
    "                        verbose=1, callbacks = [keras.callbacks.EarlyStopping(monitor='val_loss', min_delta=0, patience=10, verbose=0, mode='auto')]).history\n",
    "    return lstm_autoencoder_history\n",
    "\n",
    "def plt_epoch_error(history):\n",
    "    plt.plot(history['loss'], linewidth=2, label='Train')\n",
    "    plt.plot(history['val_loss'], linewidth=2, label='Valid')\n",
    "    plt.legend(loc='upper right')\n",
    "    plt.title('Model loss')\n",
    "    plt.ylabel('Loss')\n",
    "    plt.xlabel('Epoch')\n",
    "    plt.show()"
   ]
  },
  {
   "cell_type": "code",
   "execution_count": 113,
   "id": "754876fd",
   "metadata": {},
   "outputs": [],
   "source": [
    "timesteps = df_w.shape[1]\n",
    "n_features = df_w.shape[2]"
   ]
  },
  {
   "cell_type": "code",
   "execution_count": 114,
   "id": "1a614e31",
   "metadata": {},
   "outputs": [],
   "source": [
    "model = init_model(timesteps=timesteps, n_features=n_features)"
   ]
  },
  {
   "cell_type": "code",
   "execution_count": 115,
   "id": "cec6d25f",
   "metadata": {
    "scrolled": true
   },
   "outputs": [
    {
     "name": "stdout",
     "output_type": "stream",
     "text": [
      "Epoch 1/5\n",
      "400/400 [==============================] - 126s 294ms/step - loss: 0.0271 - val_loss: 0.0019\n",
      "Epoch 2/5\n",
      "400/400 [==============================] - 106s 266ms/step - loss: 0.0015 - val_loss: 0.0017\n",
      "Epoch 3/5\n",
      "400/400 [==============================] - 113s 284ms/step - loss: 9.5145e-04 - val_loss: 6.3101e-04\n",
      "Epoch 4/5\n",
      "400/400 [==============================] - 113s 282ms/step - loss: 6.5970e-04 - val_loss: 0.0016\n",
      "Epoch 5/5\n",
      "400/400 [==============================] - 120s 300ms/step - loss: 5.8502e-04 - val_loss: 5.0072e-04\n"
     ]
    }
   ],
   "source": [
    "history = fit_model(df_w, model)"
   ]
  },
  {
   "cell_type": "code",
   "execution_count": 116,
   "id": "8a56f30a",
   "metadata": {},
   "outputs": [
    {
     "data": {
      "image/png": "[encoded data removed]",
      "text/plain": [
       "<Figure size 432x288 with 1 Axes>"
      ]
     },
     "metadata": {
      "needs_background": "light"
     },
     "output_type": "display_data"
    }
   ],
   "source": [
    "plt_epoch_error(history)"
   ]
  },
  {
   "cell_type": "markdown",
   "id": "854d2b39",
   "metadata": {},
   "source": [
    "#### MSE"
   ]
  },
  {
   "cell_type": "code",
   "execution_count": 117,
   "id": "6d718528",
   "metadata": {},
   "outputs": [],
   "source": [
    "def flatten(X):\n",
    "    flattened_X = np.empty((X.shape[0], X.shape[2]))\n",
    "    for i in range(X.shape[0]):\n",
    "        flattened_X[i] = X[i, (X.shape[1]-1), :]\n",
    "    return(flattened_X) \n",
    "\n",
    "def flatten_2(data):\n",
    "    return np.reshape(data, (data.shape[0], data.shape[1]*data.shape[2]))\n",
    "\n",
    "def plt_mse(mse, title='MSE'):\n",
    "    plt.figure(figsize=(10,5))\n",
    "    plt.title(title)\n",
    "    plt.plot(mse)"
   ]
  },
  {
   "cell_type": "code",
   "execution_count": 118,
   "id": "40a14adf",
   "metadata": {},
   "outputs": [
    {
     "name": "stdout",
     "output_type": "stream",
     "text": [
      "6250/6250 [==============================] - 82s 13ms/step\n"
     ]
    }
   ],
   "source": [
    "pred_train = model.predict(df_train_w)"
   ]
  },
  {
   "cell_type": "code",
   "execution_count": 119,
   "id": "9dabffc7",
   "metadata": {},
   "outputs": [],
   "source": [
    "mse_train = np.mean(np.power(flatten_2(df_train_w) - flatten_2(pred_train), 2), axis=1)"
   ]
  },
  {
   "cell_type": "code",
   "execution_count": 120,
   "id": "100066ab",
   "metadata": {
    "scrolled": true
   },
   "outputs": [
    {
     "data": {
      "image/png": "[encoded data removed]",
      "text/plain": [
       "<Figure size 720x360 with 1 Axes>"
      ]
     },
     "metadata": {
      "needs_background": "light"
     },
     "output_type": "display_data"
    }
   ],
   "source": [
    "plt_mse(mse_train, title='MSE_train')"
   ]
  },
  {
   "cell_type": "code",
   "execution_count": 121,
   "id": "76135ca0",
   "metadata": {},
   "outputs": [
    {
     "name": "stdout",
     "output_type": "stream",
     "text": [
      "6080/6080 [==============================] - 83s 14ms/step\n"
     ]
    }
   ],
   "source": [
    "pred_test = model.predict(df_test1_w)"
   ]
  },
  {
   "cell_type": "code",
   "execution_count": 122,
   "id": "91715a35",
   "metadata": {},
   "outputs": [],
   "source": [
    "mse_test1 = np.mean(np.power(flatten_2(df_test1_w) - flatten_2(pred_test), 2), axis=1)"
   ]
  },
  {
   "cell_type": "code",
   "execution_count": 123,
   "id": "5a293234",
   "metadata": {
    "scrolled": true
   },
   "outputs": [
    {
     "data": {
      "image/png": "[encoded data removed]",
      "text/plain": [
       "<Figure size 720x360 with 1 Axes>"
      ]
     },
     "metadata": {
      "needs_background": "light"
     },
     "output_type": "display_data"
    }
   ],
   "source": [
    "plt_mse(mse_test1, title='MSE_test1')"
   ]
  },
  {
   "cell_type": "code",
   "execution_count": 69,
   "id": "0afb1264",
   "metadata": {},
   "outputs": [
    {
     "name": "stdout",
     "output_type": "stream",
     "text": [
      "6089/6089 [==============================] - 66s 11ms/step\n"
     ]
    }
   ],
   "source": [
    "pred_test2 = model.predict(df_test2_w)"
   ]
  },
  {
   "cell_type": "code",
   "execution_count": 70,
   "id": "684c2d50",
   "metadata": {},
   "outputs": [
    {
     "data": {
      "text/plain": [
       "(194824, 12, 5)"
      ]
     },
     "execution_count": 70,
     "metadata": {},
     "output_type": "execute_result"
    }
   ],
   "source": [
    "pred_test2.shape"
   ]
  },
  {
   "cell_type": "code",
   "execution_count": 71,
   "id": "ce953bc5",
   "metadata": {},
   "outputs": [
    {
     "data": {
      "image/png": "[encoded data removed]",
      "text/plain": [
       "<Figure size 720x360 with 1 Axes>"
      ]
     },
     "metadata": {
      "needs_background": "light"
     },
     "output_type": "display_data"
    }
   ],
   "source": [
    "mse_test2 = np.mean(np.power(flatten_2(df_test2_w) - flatten_2(pred_test2), 2), axis=1)\n",
    "\n",
    "plt_mse(mse_test2, title='MSE_test2')"
   ]
  },
  {
   "cell_type": "code",
   "execution_count": 72,
   "id": "af968625",
   "metadata": {
    "scrolled": false
   },
   "outputs": [
    {
     "name": "stdout",
     "output_type": "stream",
     "text": [
      "6078/6078 [==============================] - 67s 11ms/step\n"
     ]
    },
    {
     "data": {
      "image/png": "[encoded data removed]",
      "text/plain": [
       "<Figure size 720x360 with 1 Axes>"
      ]
     },
     "metadata": {
      "needs_background": "light"
     },
     "output_type": "display_data"
    }
   ],
   "source": [
    "pred_test3 = model.predict(df_test3_w)\n",
    "\n",
    "mse_test3 = np.mean(np.power(flatten_2(df_test3_w) - flatten_2(pred_test3), 2), axis=1)\n",
    "\n",
    "plt_mse(mse_test3, title='MSE_test3')"
   ]
  },
  {
   "cell_type": "markdown",
   "id": "693c3e0d",
   "metadata": {},
   "source": [
    "### OCSVM"
   ]
  },
  {
   "cell_type": "code",
   "execution_count": 130,
   "id": "55ff243e",
   "metadata": {},
   "outputs": [],
   "source": [
    "import math\n",
    "from sklearn import svm"
   ]
  },
  {
   "cell_type": "code",
   "execution_count": 131,
   "id": "d1e4ad71",
   "metadata": {},
   "outputs": [],
   "source": [
    "mse_train_rs = np.reshape(mse_train, (mse_train.shape[0], 1))"
   ]
  },
  {
   "cell_type": "code",
   "execution_count": 132,
   "id": "f70caa56",
   "metadata": {},
   "outputs": [],
   "source": [
    "def change_label(label):\n",
    "    arr = []\n",
    "    for i in label: \n",
    "        if i == -1:\n",
    "            arr.append(1)\n",
    "        else:\n",
    "            arr.append(0)\n",
    "    return arr\n",
    "\n",
    "def print_distrib(arr):\n",
    "    labels = {}\n",
    "    for i in arr:\n",
    "        if i in labels.keys():\n",
    "            labels[i] += 1\n",
    "        else:\n",
    "            labels[i] = 1\n",
    "    print(labels)"
   ]
  },
  {
   "cell_type": "code",
   "execution_count": 133,
   "id": "9d0c98d6",
   "metadata": {},
   "outputs": [],
   "source": [
    "mse_test1_rs = np.reshape(mse_test1, (mse_test1.shape[0], 1))"
   ]
  },
  {
   "cell_type": "code",
   "execution_count": 148,
   "id": "088fffc3",
   "metadata": {
    "scrolled": true
   },
   "outputs": [
    {
     "name": "stdout",
     "output_type": "stream",
     "text": [
      "FIT....\n",
      "FIT DONE\n",
      "PREDICT...\n",
      "PREDICT DONE\n",
      "{0: 192177, 1: 2369}\n",
      "0.5883628478496566\n",
      "              precision    recall  f1-score   support\n",
      "\n",
      "         0.0       0.99      1.00      0.99    191381\n",
      "         1.0       0.69      0.51      0.59      3165\n",
      "\n",
      "    accuracy                           0.99    194546\n",
      "   macro avg       0.84      0.76      0.79    194546\n",
      "weighted avg       0.99      0.99      0.99    194546\n",
      "\n"
     ]
    }
   ],
   "source": [
    "clf_1 = svm.OneClassSVM(nu=0.0021, kernel=\"rbf\", gamma=0.1)\n",
    "print('FIT....')\n",
    "clf_1.fit(mse_train_rs)\n",
    "print('FIT DONE')\n",
    "print('PREDICT...')\n",
    "y_scores_1 = clf_1.predict(mse_test1_rs)\n",
    "print('PREDICT DONE')\n",
    "\n",
    "anomaly1 = change_label(y_scores_1)\n",
    "print_distrib(anomaly1)\n",
    "print(f1_score(y1[12:], anomaly1))\n",
    "print(classification_report(y1[12:], anomaly1))"
   ]
  },
  {
   "cell_type": "markdown",
   "id": "07a82c08",
   "metadata": {},
   "source": [
    "#### Подбираем гиперпраметры OCSVM"
   ]
  },
  {
   "cell_type": "code",
   "execution_count": 138,
   "id": "c707e31d",
   "metadata": {
    "scrolled": true
   },
   "outputs": [
    {
     "name": "stdout",
     "output_type": "stream",
     "text": [
      "0  -- model FIT... -- nu: 0.002 | kernel: rbf | gamma: 0.05\n",
      "FIT DONE\n",
      "PREDICT...\n",
      "PREDICT DONE\n",
      "{1: 38347, 0: 156199}\n",
      "-- F1:  0.0793023703989208  -- TIME: 16.244450092315674\n",
      "------------------------------------\n",
      "1  -- model FIT... -- nu: 0.0021 | kernel: rbf | gamma: 0.05\n",
      "FIT DONE\n",
      "PREDICT...\n",
      "PREDICT DONE\n",
      "{1: 41924, 0: 152622}\n",
      "-- F1:  0.07416443034886558  -- TIME: 18.232597827911377\n",
      "------------------------------------\n",
      "2  -- model FIT... -- nu: 0.0021999999999999997 | kernel: rbf | gamma: 0.05\n",
      "FIT DONE\n",
      "PREDICT...\n",
      "PREDICT DONE\n",
      "{1: 44859, 0: 149687}\n",
      "-- F1:  0.0705064134599367  -- TIME: 22.188647031784058\n",
      "------------------------------------\n",
      "3  -- model FIT... -- nu: 0.0022999999999999995 | kernel: rbf | gamma: 0.05\n",
      "FIT DONE\n",
      "PREDICT...\n",
      "PREDICT DONE\n",
      "{1: 47480, 0: 147066}\n",
      "-- F1:  0.0674893869088755  -- TIME: 21.95327615737915\n",
      "------------------------------------\n",
      "4  -- model FIT... -- nu: 0.0023999999999999994 | kernel: rbf | gamma: 0.05\n",
      "FIT DONE\n",
      "PREDICT...\n",
      "PREDICT DONE\n",
      "{0: 192168, 1: 2378}\n",
      "-- F1:  0.5874075410427567  -- TIME: 21.80267572402954\n",
      "------------------------------------\n",
      "5  -- model FIT... -- nu: 0.002499999999999999 | kernel: rbf | gamma: 0.05\n",
      "FIT DONE\n",
      "PREDICT...\n",
      "PREDICT DONE\n",
      "{0: 192163, 1: 2383}\n",
      "-- F1:  0.5868781542898341  -- TIME: 22.79106116294861\n",
      "------------------------------------\n",
      "6  -- model FIT... -- nu: 0.002599999999999999 | kernel: rbf | gamma: 0.05\n",
      "FIT DONE\n",
      "PREDICT...\n",
      "PREDICT DONE\n",
      "{1: 54133, 0: 140413}\n",
      "-- F1:  0.06115396697965024  -- TIME: 23.46021580696106\n",
      "------------------------------------\n",
      "7  -- model FIT... -- nu: 0.002699999999999999 | kernel: rbf | gamma: 0.05\n",
      "FIT DONE\n",
      "PREDICT...\n",
      "PREDICT DONE\n",
      "{0: 192144, 1: 2402}\n",
      "-- F1:  0.5852344171007724  -- TIME: 23.253762006759644\n",
      "------------------------------------\n",
      "8  -- model FIT... -- nu: 0.0027999999999999987 | kernel: rbf | gamma: 0.05\n",
      "FIT DONE\n",
      "PREDICT...\n",
      "PREDICT DONE\n",
      "{1: 59235, 0: 135311}\n",
      "-- F1:  0.057051282051282064  -- TIME: 24.137430906295776\n",
      "------------------------------------\n",
      "9  -- model FIT... -- nu: 0.0028999999999999985 | kernel: rbf | gamma: 0.05\n",
      "FIT DONE\n",
      "PREDICT...\n",
      "PREDICT DONE\n",
      "{0: 192118, 1: 2428}\n",
      "-- F1:  0.5828714464509208  -- TIME: 28.120149612426758\n",
      "------------------------------------\n",
      "10  -- model FIT... -- nu: 0.0029999999999999983 | kernel: rbf | gamma: 0.05\n",
      "FIT DONE\n",
      "PREDICT...\n",
      "PREDICT DONE\n",
      "{0: 192111, 1: 2435}\n",
      "-- F1:  0.5821428571428572  -- TIME: 26.37744116783142\n",
      "------------------------------------\n",
      "11  -- model FIT... -- nu: 0.003099999999999998 | kernel: rbf | gamma: 0.05\n",
      "FIT DONE\n",
      "PREDICT...\n",
      "PREDICT DONE\n",
      "{1: 64736, 0: 129810}\n",
      "-- F1:  0.0546383705689165  -- TIME: 27.61213517189026\n",
      "------------------------------------\n",
      "12  -- model FIT... -- nu: 0.003199999999999998 | kernel: rbf | gamma: 0.05\n",
      "FIT DONE\n",
      "PREDICT...\n",
      "PREDICT DONE\n",
      "{1: 19136, 0: 175410}\n",
      "-- F1:  0.14671987803237524  -- TIME: 28.202583074569702\n",
      "------------------------------------\n",
      "13  -- model FIT... -- nu: 0.003299999999999998 | kernel: rbf | gamma: 0.05\n",
      "FIT DONE\n",
      "PREDICT...\n",
      "PREDICT DONE\n",
      "{1: 49463, 0: 145083}\n",
      "-- F1:  0.06551645511894809  -- TIME: 26.801079988479614\n",
      "------------------------------------\n",
      "14  -- model FIT... -- nu: 0.0033999999999999976 | kernel: rbf | gamma: 0.05\n",
      "FIT DONE\n",
      "PREDICT...\n",
      "PREDICT DONE\n",
      "{0: 192078, 1: 2468}\n",
      "-- F1:  0.5787324693768863  -- TIME: 26.797452688217163\n",
      "------------------------------------\n",
      "15  -- model FIT... -- nu: 0.0034999999999999975 | kernel: rbf | gamma: 0.05\n",
      "FIT DONE\n",
      "PREDICT...\n",
      "PREDICT DONE\n",
      "{0: 192065, 1: 2481}\n",
      "-- F1:  0.5773999291533829  -- TIME: 27.75197672843933\n",
      "------------------------------------\n",
      "16  -- model FIT... -- nu: 0.0035999999999999973 | kernel: rbf | gamma: 0.05\n",
      "FIT DONE\n",
      "PREDICT...\n",
      "PREDICT DONE\n",
      "{1: 72225, 0: 122321}\n",
      "-- F1:  0.05159835521952513  -- TIME: 29.497392416000366\n",
      "------------------------------------\n",
      "17  -- model FIT... -- nu: 0.003699999999999997 | kernel: rbf | gamma: 0.05\n",
      "FIT DONE\n",
      "PREDICT...\n",
      "PREDICT DONE\n",
      "{0: 192037, 1: 2509}\n",
      "-- F1:  0.5752555516390553  -- TIME: 29.77042269706726\n",
      "------------------------------------\n",
      "18  -- model FIT... -- nu: 0.003799999999999997 | kernel: rbf | gamma: 0.05\n",
      "FIT DONE\n",
      "PREDICT...\n",
      "PREDICT DONE\n",
      "{1: 49916, 0: 144630}\n",
      "-- F1:  0.06507036416043406  -- TIME: 30.673710107803345\n",
      "------------------------------------\n",
      "19  -- model FIT... -- nu: 0.003899999999999997 | kernel: rbf | gamma: 0.05\n",
      "FIT DONE\n",
      "PREDICT...\n",
      "PREDICT DONE\n",
      "{1: 44578, 0: 149968}\n",
      "-- F1:  0.07092139161761933  -- TIME: 32.78916883468628\n",
      "------------------------------------\n",
      "20  -- model FIT... -- nu: 0.002 | kernel: rbf | gamma: 0.1\n",
      "FIT DONE\n",
      "PREDICT...\n",
      "PREDICT DONE\n",
      "{1: 37050, 0: 157496}\n",
      "-- F1:  0.08136267561855029  -- TIME: 16.685983180999756\n",
      "------------------------------------\n",
      "21  -- model FIT... -- nu: 0.0021 | kernel: rbf | gamma: 0.1\n",
      "FIT DONE\n",
      "PREDICT...\n",
      "PREDICT DONE\n",
      "{0: 192177, 1: 2369}\n",
      "-- F1:  0.5883628478496566  -- TIME: 17.39491057395935\n",
      "------------------------------------\n",
      "22  -- model FIT... -- nu: 0.0021999999999999997 | kernel: rbf | gamma: 0.1\n",
      "FIT DONE\n",
      "PREDICT...\n",
      "PREDICT DONE\n",
      "{0: 192166, 1: 2380}\n",
      "-- F1:  0.5871956717763752  -- TIME: 18.182037591934204\n",
      "------------------------------------\n",
      "23  -- model FIT... -- nu: 0.0022999999999999995 | kernel: rbf | gamma: 0.1\n",
      "FIT DONE\n",
      "PREDICT...\n",
      "PREDICT DONE\n",
      "{0: 192158, 1: 2388}\n",
      "-- F1:  0.586349720871601  -- TIME: 18.948904037475586\n",
      "------------------------------------\n",
      "24  -- model FIT... -- nu: 0.0023999999999999994 | kernel: rbf | gamma: 0.1\n",
      "FIT DONE\n",
      "PREDICT...\n",
      "PREDICT DONE\n",
      "{1: 47808, 0: 146738}\n",
      "-- F1:  0.06717281698153925  -- TIME: 19.66913628578186\n",
      "------------------------------------\n",
      "25  -- model FIT... -- nu: 0.002499999999999999 | kernel: rbf | gamma: 0.1\n",
      "FIT DONE\n",
      "PREDICT...\n",
      "PREDICT DONE\n",
      "{0: 192135, 1: 2411}\n",
      "-- F1:  0.5842898134863701  -- TIME: 22.29571843147278\n",
      "------------------------------------\n",
      "26  -- model FIT... -- nu: 0.002599999999999999 | kernel: rbf | gamma: 0.1\n",
      "FIT DONE\n",
      "PREDICT...\n",
      "PREDICT DONE\n",
      "{0: 192119, 1: 2427}\n",
      "-- F1:  0.5829756795422031  -- TIME: 23.230231523513794\n",
      "------------------------------------\n",
      "27  -- model FIT... -- nu: 0.002699999999999999 | kernel: rbf | gamma: 0.1\n",
      "FIT DONE\n",
      "PREDICT...\n",
      "PREDICT DONE\n",
      "{0: 192113, 1: 2433}\n",
      "-- F1:  0.5823508395855662  -- TIME: 22.33686113357544\n",
      "------------------------------------\n",
      "28  -- model FIT... -- nu: 0.0027999999999999987 | kernel: rbf | gamma: 0.1\n",
      "FIT DONE\n",
      "PREDICT...\n",
      "PREDICT DONE\n",
      "{0: 192108, 1: 2438}\n",
      "-- F1:  0.5818311618775656  -- TIME: 22.856701135635376\n",
      "------------------------------------\n",
      "29  -- model FIT... -- nu: 0.0028999999999999985 | kernel: rbf | gamma: 0.1\n",
      "FIT DONE\n",
      "PREDICT...\n",
      "PREDICT DONE\n",
      "{1: 57323, 0: 137223}\n",
      "-- F1:  0.05845787594233567  -- TIME: 26.220359802246094\n",
      "------------------------------------\n",
      "30  -- model FIT... -- nu: 0.0029999999999999983 | kernel: rbf | gamma: 0.1\n",
      "FIT DONE\n",
      "PREDICT...\n",
      "PREDICT DONE\n",
      "{1: 60397, 0: 134149}\n",
      "-- F1:  0.0562285642364935  -- TIME: 26.992393493652344\n",
      "------------------------------------\n",
      "31  -- model FIT... -- nu: 0.003099999999999998 | kernel: rbf | gamma: 0.1\n",
      "FIT DONE\n",
      "PREDICT...\n",
      "PREDICT DONE\n",
      "{0: 192078, 1: 2468}\n",
      "-- F1:  0.5787324693768863  -- TIME: 29.47703242301941\n",
      "------------------------------------\n",
      "32  -- model FIT... -- nu: 0.003199999999999998 | kernel: rbf | gamma: 0.1\n",
      "FIT DONE\n",
      "PREDICT...\n",
      "PREDICT DONE\n",
      "{1: 18556, 0: 175990}\n",
      "-- F1:  0.15026932461673034  -- TIME: 26.171408891677856\n",
      "------------------------------------\n",
      "33  -- model FIT... -- nu: 0.003299999999999998 | kernel: rbf | gamma: 0.1\n",
      "FIT DONE\n",
      "PREDICT...\n",
      "PREDICT DONE\n",
      "{1: 49562, 0: 144984}\n",
      "-- F1:  0.06531757922885809  -- TIME: 27.826720237731934\n",
      "------------------------------------\n",
      "34  -- model FIT... -- nu: 0.0033999999999999976 | kernel: rbf | gamma: 0.1\n",
      "FIT DONE\n",
      "PREDICT...\n",
      "PREDICT DONE\n",
      "{1: 62003, 0: 132543}\n",
      "-- F1:  0.055671495212374175  -- TIME: 29.211960792541504\n",
      "------------------------------------\n",
      "35  -- model FIT... -- nu: 0.0034999999999999975 | kernel: rbf | gamma: 0.1\n",
      "FIT DONE\n",
      "PREDICT...\n",
      "PREDICT DONE\n",
      "{1: 64309, 0: 130237}\n",
      "-- F1:  0.05483593680528796  -- TIME: 33.43851065635681\n",
      "------------------------------------\n",
      "36  -- model FIT... -- nu: 0.0035999999999999973 | kernel: rbf | gamma: 0.1\n",
      "FIT DONE\n",
      "PREDICT...\n",
      "PREDICT DONE\n",
      "{1: 66746, 0: 127800}\n",
      "-- F1:  0.053754058731816164  -- TIME: 32.372254371643066\n",
      "------------------------------------\n",
      "37  -- model FIT... -- nu: 0.003699999999999997 | kernel: rbf | gamma: 0.1\n"
     ]
    },
    {
     "name": "stdout",
     "output_type": "stream",
     "text": [
      "FIT DONE\n",
      "PREDICT...\n",
      "PREDICT DONE\n",
      "{0: 191988, 1: 2558}\n",
      "-- F1:  0.5703302463742792  -- TIME: 33.404972553253174\n",
      "------------------------------------\n",
      "38  -- model FIT... -- nu: 0.003799999999999997 | kernel: rbf | gamma: 0.1\n",
      "FIT DONE\n",
      "PREDICT...\n",
      "PREDICT DONE\n",
      "{1: 50265, 0: 144281}\n",
      "-- F1:  0.06475762680142243  -- TIME: 34.00815558433533\n",
      "------------------------------------\n",
      "39  -- model FIT... -- nu: 0.003899999999999997 | kernel: rbf | gamma: 0.1\n",
      "FIT DONE\n",
      "PREDICT...\n",
      "PREDICT DONE\n",
      "{1: 43808, 0: 150738}\n",
      "-- F1:  0.07187107487279927  -- TIME: 34.4839608669281\n",
      "------------------------------------\n",
      "40  -- model FIT... -- nu: 0.002 | kernel: rbf | gamma: 0.15000000000000002\n",
      "FIT DONE\n",
      "PREDICT...\n",
      "PREDICT DONE\n",
      "{1: 37789, 0: 156757}\n",
      "-- F1:  0.08013869219123895  -- TIME: 18.53862452507019\n",
      "------------------------------------\n",
      "41  -- model FIT... -- nu: 0.0021 | kernel: rbf | gamma: 0.15000000000000002\n",
      "FIT DONE\n",
      "PREDICT...\n",
      "PREDICT DONE\n",
      "{0: 192166, 1: 2380}\n",
      "-- F1:  0.5871956717763752  -- TIME: 19.251391410827637\n",
      "------------------------------------\n",
      "42  -- model FIT... -- nu: 0.0021999999999999997 | kernel: rbf | gamma: 0.15000000000000002\n",
      "FIT DONE\n",
      "PREDICT...\n",
      "PREDICT DONE\n",
      "{0: 192158, 1: 2388}\n",
      "-- F1:  0.586349720871601  -- TIME: 19.78372025489807\n",
      "------------------------------------\n",
      "43  -- model FIT... -- nu: 0.0022999999999999995 | kernel: rbf | gamma: 0.15000000000000002\n",
      "FIT DONE\n",
      "PREDICT...\n",
      "PREDICT DONE\n",
      "{1: 45309, 0: 149237}\n",
      "-- F1:  0.06993439782151256  -- TIME: 21.001698970794678\n",
      "------------------------------------\n",
      "44  -- model FIT... -- nu: 0.0023999999999999994 | kernel: rbf | gamma: 0.15000000000000002\n",
      "FIT DONE\n",
      "PREDICT...\n",
      "PREDICT DONE\n",
      "{1: 46515, 0: 148031}\n",
      "-- F1:  0.06851851851851852  -- TIME: 22.310025691986084\n",
      "------------------------------------\n",
      "45  -- model FIT... -- nu: 0.002499999999999999 | kernel: rbf | gamma: 0.15000000000000002\n",
      "FIT DONE\n",
      "PREDICT...\n",
      "PREDICT DONE\n",
      "{0: 192119, 1: 2427}\n",
      "-- F1:  0.5829756795422031  -- TIME: 22.74081254005432\n",
      "------------------------------------\n",
      "46  -- model FIT... -- nu: 0.002599999999999999 | kernel: rbf | gamma: 0.15000000000000002\n",
      "FIT DONE\n",
      "PREDICT...\n",
      "PREDICT DONE\n",
      "{1: 49756, 0: 144790}\n",
      "-- F1:  0.06515371969539502  -- TIME: 23.658567905426025\n",
      "------------------------------------\n",
      "47  -- model FIT... -- nu: 0.002699999999999999 | kernel: rbf | gamma: 0.15000000000000002\n",
      "FIT DONE\n",
      "PREDICT...\n",
      "PREDICT DONE\n",
      "{0: 192108, 1: 2438}\n",
      "-- F1:  0.5818311618775656  -- TIME: 24.16618776321411\n",
      "------------------------------------\n",
      "48  -- model FIT... -- nu: 0.0027999999999999987 | kernel: rbf | gamma: 0.15000000000000002\n",
      "FIT DONE\n",
      "PREDICT...\n",
      "PREDICT DONE\n",
      "{0: 192097, 1: 2449}\n",
      "-- F1:  0.5806911293195582  -- TIME: 24.791404008865356\n",
      "------------------------------------\n",
      "49  -- model FIT... -- nu: 0.0028999999999999985 | kernel: rbf | gamma: 0.15000000000000002\n",
      "FIT DONE\n",
      "PREDICT...\n",
      "PREDICT DONE\n",
      "{1: 56352, 0: 138194}\n",
      "-- F1:  0.05924357746526203  -- TIME: 28.17553424835205\n",
      "------------------------------------\n",
      "50  -- model FIT... -- nu: 0.0029999999999999983 | kernel: rbf | gamma: 0.15000000000000002\n",
      "FIT DONE\n",
      "PREDICT...\n",
      "PREDICT DONE\n",
      "{0: 192078, 1: 2468}\n",
      "-- F1:  0.5787324693768863  -- TIME: 26.348468780517578\n",
      "------------------------------------\n",
      "51  -- model FIT... -- nu: 0.003099999999999998 | kernel: rbf | gamma: 0.15000000000000002\n",
      "FIT DONE\n",
      "PREDICT...\n",
      "PREDICT DONE\n",
      "{0: 192065, 1: 2481}\n",
      "-- F1:  0.5773999291533829  -- TIME: 29.932563304901123\n",
      "------------------------------------\n",
      "52  -- model FIT... -- nu: 0.003199999999999998 | kernel: rbf | gamma: 0.15000000000000002\n",
      "FIT DONE\n",
      "PREDICT...\n",
      "PREDICT DONE\n",
      "{1: 18749, 0: 175797}\n",
      "-- F1:  0.14894587934653644  -- TIME: 28.64115333557129\n",
      "------------------------------------\n",
      "53  -- model FIT... -- nu: 0.003299999999999998 | kernel: rbf | gamma: 0.15000000000000002\n",
      "FIT DONE\n",
      "PREDICT...\n",
      "PREDICT DONE\n",
      "{1: 48907, 0: 145639}\n",
      "-- F1:  0.06602396681517898  -- TIME: 29.54581356048584\n",
      "------------------------------------\n",
      "54  -- model FIT... -- nu: 0.0033999999999999976 | kernel: rbf | gamma: 0.15000000000000002\n",
      "FIT DONE\n",
      "PREDICT...\n",
      "PREDICT DONE\n",
      "{0: 192023, 1: 2523}\n",
      "-- F1:  0.5738396624472574  -- TIME: 30.409053802490234\n",
      "------------------------------------\n",
      "55  -- model FIT... -- nu: 0.0034999999999999975 | kernel: rbf | gamma: 0.15000000000000002\n",
      "FIT DONE\n",
      "PREDICT...\n",
      "PREDICT DONE\n",
      "{0: 192007, 1: 2539}\n",
      "-- F1:  0.5722300140252454  -- TIME: 31.793419361114502\n",
      "------------------------------------\n",
      "56  -- model FIT... -- nu: 0.0035999999999999973 | kernel: rbf | gamma: 0.15000000000000002\n",
      "FIT DONE\n",
      "PREDICT...\n",
      "PREDICT DONE\n",
      "{0: 191988, 1: 2558}\n",
      "-- F1:  0.5703302463742792  -- TIME: 32.61284828186035\n",
      "------------------------------------\n",
      "57  -- model FIT... -- nu: 0.003699999999999997 | kernel: rbf | gamma: 0.15000000000000002\n",
      "FIT DONE\n",
      "PREDICT...\n",
      "PREDICT DONE\n",
      "{0: 191983, 1: 2563}\n",
      "-- F1:  0.5698324022346368  -- TIME: 33.33679556846619\n",
      "------------------------------------\n",
      "58  -- model FIT... -- nu: 0.003799999999999997 | kernel: rbf | gamma: 0.15000000000000002\n",
      "FIT DONE\n",
      "PREDICT...\n",
      "PREDICT DONE\n",
      "{1: 49570, 0: 144976}\n",
      "-- F1:  0.06538352138048734  -- TIME: 33.722548723220825\n",
      "------------------------------------\n",
      "59  -- model FIT... -- nu: 0.003899999999999997 | kernel: rbf | gamma: 0.15000000000000002\n",
      "FIT DONE\n",
      "PREDICT...\n",
      "PREDICT DONE\n",
      "{1: 44032, 0: 150514}\n",
      "-- F1:  0.07161472127465729  -- TIME: 35.21983885765076\n",
      "------------------------------------\n",
      "60  -- model FIT... -- nu: 0.002 | kernel: rbf | gamma: 0.2\n",
      "FIT DONE\n",
      "PREDICT...\n",
      "PREDICT DONE\n",
      "{1: 37746, 0: 156800}\n",
      "-- F1:  0.08022292293026326  -- TIME: 18.381044626235962\n",
      "------------------------------------\n",
      "61  -- model FIT... -- nu: 0.0021 | kernel: rbf | gamma: 0.2\n",
      "FIT DONE\n",
      "PREDICT...\n",
      "PREDICT DONE\n",
      "{1: 39659, 0: 154887}\n",
      "-- F1:  0.07729310666915748  -- TIME: 19.43262815475464\n",
      "------------------------------------\n",
      "62  -- model FIT... -- nu: 0.0021999999999999997 | kernel: rbf | gamma: 0.2\n",
      "FIT DONE\n",
      "PREDICT...\n",
      "PREDICT DONE\n",
      "{0: 192157, 1: 2389}\n",
      "-- F1:  0.5862441483615412  -- TIME: 20.245765447616577\n",
      "------------------------------------\n",
      "63  -- model FIT... -- nu: 0.0022999999999999995 | kernel: rbf | gamma: 0.2\n",
      "FIT DONE\n",
      "PREDICT...\n",
      "PREDICT DONE\n",
      "{1: 44987, 0: 149559}\n",
      "-- F1:  0.07036052500415353  -- TIME: 20.998685598373413\n",
      "------------------------------------\n",
      "64  -- model FIT... -- nu: 0.0023999999999999994 | kernel: rbf | gamma: 0.2\n",
      "FIT DONE\n",
      "PREDICT...\n",
      "PREDICT DONE\n",
      "{1: 46342, 0: 148204}\n",
      "-- F1:  0.06871755509321914  -- TIME: 21.95768451690674\n",
      "------------------------------------\n",
      "65  -- model FIT... -- nu: 0.002499999999999999 | kernel: rbf | gamma: 0.2\n",
      "FIT DONE\n",
      "PREDICT...\n",
      "PREDICT DONE\n",
      "{0: 192117, 1: 2429}\n",
      "-- F1:  0.5827672506256703  -- TIME: 22.75814938545227\n",
      "------------------------------------\n",
      "66  -- model FIT... -- nu: 0.002599999999999999 | kernel: rbf | gamma: 0.2\n",
      "FIT DONE\n",
      "PREDICT...\n",
      "PREDICT DONE\n",
      "{0: 192109, 1: 2437}\n",
      "-- F1:  0.5819350232059978  -- TIME: 23.96547770500183\n",
      "------------------------------------\n",
      "67  -- model FIT... -- nu: 0.002699999999999999 | kernel: rbf | gamma: 0.2\n",
      "FIT DONE\n",
      "PREDICT...\n",
      "PREDICT DONE\n",
      "{0: 192103, 1: 2443}\n",
      "-- F1:  0.5813124108416547  -- TIME: 24.970120429992676\n",
      "------------------------------------\n",
      "68  -- model FIT... -- nu: 0.0027999999999999987 | kernel: rbf | gamma: 0.2\n",
      "FIT DONE\n",
      "PREDICT...\n",
      "PREDICT DONE\n",
      "{0: 192096, 1: 2450}\n",
      "-- F1:  0.5805877114870881  -- TIME: 25.159640789031982\n",
      "------------------------------------\n",
      "69  -- model FIT... -- nu: 0.0028999999999999985 | kernel: rbf | gamma: 0.2\n",
      "FIT DONE\n",
      "PREDICT...\n",
      "PREDICT DONE\n",
      "{1: 55717, 0: 138829}\n",
      "-- F1:  0.05978057810536327  -- TIME: 26.394448041915894\n",
      "------------------------------------\n",
      "70  -- model FIT... -- nu: 0.0029999999999999983 | kernel: rbf | gamma: 0.2\n",
      "FIT DONE\n",
      "PREDICT...\n",
      "PREDICT DONE\n",
      "{0: 192069, 1: 2477}\n",
      "-- F1:  0.5778092874867068  -- TIME: 26.932748317718506\n",
      "------------------------------------\n",
      "71  -- model FIT... -- nu: 0.003099999999999998 | kernel: rbf | gamma: 0.2\n",
      "FIT DONE\n",
      "PREDICT...\n",
      "PREDICT DONE\n",
      "{0: 192064, 1: 2482}\n",
      "-- F1:  0.5772976801841685  -- TIME: 28.298825979232788\n",
      "------------------------------------\n",
      "72  -- model FIT... -- nu: 0.003199999999999998 | kernel: rbf | gamma: 0.2\n",
      "FIT DONE\n",
      "PREDICT...\n",
      "PREDICT DONE\n",
      "{1: 18943, 0: 175603}\n",
      "-- F1:  0.147638863759725  -- TIME: 28.770495653152466\n",
      "------------------------------------\n",
      "73  -- model FIT... -- nu: 0.003299999999999998 | kernel: rbf | gamma: 0.2\n"
     ]
    },
    {
     "name": "stdout",
     "output_type": "stream",
     "text": [
      "FIT DONE\n",
      "PREDICT...\n",
      "PREDICT DONE\n",
      "{1: 48918, 0: 145628}\n",
      "-- F1:  0.06601002246414377  -- TIME: 31.0677170753479\n",
      "------------------------------------\n",
      "74  -- model FIT... -- nu: 0.0033999999999999976 | kernel: rbf | gamma: 0.2\n",
      "FIT DONE\n",
      "PREDICT...\n",
      "PREDICT DONE\n",
      "{0: 192013, 1: 2533}\n",
      "-- F1:  0.5728325728325728  -- TIME: 30.825502157211304\n",
      "------------------------------------\n",
      "75  -- model FIT... -- nu: 0.0034999999999999975 | kernel: rbf | gamma: 0.2\n",
      "FIT DONE\n",
      "PREDICT...\n",
      "PREDICT DONE\n",
      "{1: 62187, 0: 132359}\n",
      "-- F1:  0.05560656139062309  -- TIME: 32.07670497894287\n",
      "------------------------------------\n",
      "76  -- model FIT... -- nu: 0.0035999999999999973 | kernel: rbf | gamma: 0.2\n",
      "FIT DONE\n",
      "PREDICT...\n",
      "PREDICT DONE\n",
      "{1: 64055, 0: 130491}\n",
      "-- F1:  0.05486462362392145  -- TIME: 32.841975688934326\n",
      "------------------------------------\n",
      "77  -- model FIT... -- nu: 0.003699999999999997 | kernel: rbf | gamma: 0.2\n",
      "FIT DONE\n",
      "PREDICT...\n",
      "PREDICT DONE\n",
      "{0: 191973, 1: 2573}\n",
      "-- F1:  0.5688393168351342  -- TIME: 33.83528256416321\n",
      "------------------------------------\n",
      "78  -- model FIT... -- nu: 0.003799999999999997 | kernel: rbf | gamma: 0.2\n",
      "FIT DONE\n",
      "PREDICT...\n",
      "PREDICT DONE\n",
      "{1: 49760, 0: 144786}\n",
      "-- F1:  0.06511100614076523  -- TIME: 34.21856379508972\n",
      "------------------------------------\n",
      "79  -- model FIT... -- nu: 0.003899999999999997 | kernel: rbf | gamma: 0.2\n",
      "FIT DONE\n",
      "PREDICT...\n",
      "PREDICT DONE\n",
      "{1: 43699, 0: 150847}\n",
      "-- F1:  0.07186753158074428  -- TIME: 35.22568154335022\n",
      "------------------------------------\n",
      "80  -- model FIT... -- nu: 0.002 | kernel: rbf | gamma: 0.25\n",
      "FIT DONE\n",
      "PREDICT...\n",
      "PREDICT DONE\n",
      "{1: 37839, 0: 156707}\n",
      "-- F1:  0.08008974734172275  -- TIME: 18.384557008743286\n",
      "------------------------------------\n",
      "81  -- model FIT... -- nu: 0.0021 | kernel: rbf | gamma: 0.25\n",
      "FIT DONE\n",
      "PREDICT...\n",
      "PREDICT DONE\n",
      "{0: 192163, 1: 2383}\n",
      "-- F1:  0.5868781542898341  -- TIME: 21.30417037010193\n",
      "------------------------------------\n",
      "82  -- model FIT... -- nu: 0.0021999999999999997 | kernel: rbf | gamma: 0.25\n",
      "FIT DONE\n",
      "PREDICT...\n",
      "PREDICT DONE\n",
      "{0: 192154, 1: 2392}\n",
      "-- F1:  0.5859276588087098  -- TIME: 20.359214544296265\n",
      "------------------------------------\n",
      "83  -- model FIT... -- nu: 0.0022999999999999995 | kernel: rbf | gamma: 0.25\n",
      "FIT DONE\n",
      "PREDICT...\n",
      "PREDICT DONE\n",
      "{0: 192139, 1: 2407}\n",
      "-- F1:  0.5847092605886576  -- TIME: 20.938187837600708\n",
      "------------------------------------\n",
      "84  -- model FIT... -- nu: 0.0023999999999999994 | kernel: rbf | gamma: 0.25\n",
      "FIT DONE\n",
      "PREDICT...\n",
      "PREDICT DONE\n",
      "{0: 192124, 1: 2422}\n",
      "-- F1:  0.5834974046894577  -- TIME: 21.712446451187134\n",
      "------------------------------------\n",
      "85  -- model FIT... -- nu: 0.002499999999999999 | kernel: rbf | gamma: 0.25\n",
      "FIT DONE\n",
      "PREDICT...\n",
      "PREDICT DONE\n",
      "{0: 192113, 1: 2433}\n",
      "-- F1:  0.5823508395855662  -- TIME: 22.77604389190674\n",
      "------------------------------------\n",
      "86  -- model FIT... -- nu: 0.002599999999999999 | kernel: rbf | gamma: 0.25\n",
      "FIT DONE\n",
      "PREDICT...\n",
      "PREDICT DONE\n",
      "{0: 192108, 1: 2438}\n",
      "-- F1:  0.5818311618775656  -- TIME: 23.63503932952881\n",
      "------------------------------------\n",
      "87  -- model FIT... -- nu: 0.002699999999999999 | kernel: rbf | gamma: 0.25\n",
      "FIT DONE\n",
      "PREDICT...\n",
      "PREDICT DONE\n",
      "{1: 50687, 0: 143859}\n",
      "-- F1:  0.06417588947485703  -- TIME: 24.889538764953613\n",
      "------------------------------------\n",
      "88  -- model FIT... -- nu: 0.0027999999999999987 | kernel: rbf | gamma: 0.25\n",
      "FIT DONE\n",
      "PREDICT...\n",
      "PREDICT DONE\n",
      "{0: 192086, 1: 2460}\n",
      "-- F1:  0.5795555555555555  -- TIME: 25.91144061088562\n",
      "------------------------------------\n",
      "89  -- model FIT... -- nu: 0.0028999999999999985 | kernel: rbf | gamma: 0.25\n",
      "FIT DONE\n",
      "PREDICT...\n",
      "PREDICT DONE\n",
      "{0: 192080, 1: 2466}\n",
      "-- F1:  0.5789380216657787  -- TIME: 26.12417984008789\n",
      "------------------------------------\n",
      "90  -- model FIT... -- nu: 0.0029999999999999983 | kernel: rbf | gamma: 0.25\n",
      "FIT DONE\n",
      "PREDICT...\n",
      "PREDICT DONE\n",
      "{0: 192065, 1: 2481}\n",
      "-- F1:  0.5773999291533829  -- TIME: 27.20435929298401\n",
      "------------------------------------\n",
      "91  -- model FIT... -- nu: 0.003099999999999998 | kernel: rbf | gamma: 0.25\n",
      "FIT DONE\n",
      "PREDICT...\n",
      "PREDICT DONE\n",
      "{1: 60225, 0: 134321}\n",
      "-- F1:  0.05634958195298943  -- TIME: 28.387704372406006\n",
      "------------------------------------\n",
      "92  -- model FIT... -- nu: 0.003199999999999998 | kernel: rbf | gamma: 0.25\n",
      "FIT DONE\n",
      "PREDICT...\n",
      "PREDICT DONE\n",
      "{1: 18661, 0: 175885}\n",
      "-- F1:  0.14954641253550813  -- TIME: 28.711812019348145\n",
      "------------------------------------\n",
      "93  -- model FIT... -- nu: 0.003299999999999998 | kernel: rbf | gamma: 0.25\n",
      "FIT DONE\n",
      "PREDICT...\n",
      "PREDICT DONE\n",
      "{1: 48922, 0: 145624}\n",
      "-- F1:  0.06600495325129112  -- TIME: 31.26698327064514\n",
      "------------------------------------\n",
      "94  -- model FIT... -- nu: 0.0033999999999999976 | kernel: rbf | gamma: 0.25\n",
      "FIT DONE\n",
      "PREDICT...\n",
      "PREDICT DONE\n",
      "{0: 192011, 1: 2535}\n",
      "-- F1:  0.5726315789473685  -- TIME: 29.556586742401123\n",
      "------------------------------------\n",
      "95  -- model FIT... -- nu: 0.0034999999999999975 | kernel: rbf | gamma: 0.25\n",
      "FIT DONE\n",
      "PREDICT...\n",
      "PREDICT DONE\n",
      "{0: 191988, 1: 2558}\n",
      "-- F1:  0.5703302463742792  -- TIME: 32.51351237297058\n",
      "------------------------------------\n",
      "96  -- model FIT... -- nu: 0.0035999999999999973 | kernel: rbf | gamma: 0.25\n",
      "FIT DONE\n",
      "PREDICT...\n",
      "PREDICT DONE\n",
      "{1: 64179, 0: 130367}\n",
      "-- F1:  0.05482299833689712  -- TIME: 32.917853355407715\n",
      "------------------------------------\n",
      "97  -- model FIT... -- nu: 0.003699999999999997 | kernel: rbf | gamma: 0.25\n",
      "FIT DONE\n",
      "PREDICT...\n",
      "PREDICT DONE\n",
      "{1: 66082, 0: 128464}\n",
      "-- F1:  0.053980677863300935  -- TIME: 33.01670837402344\n",
      "------------------------------------\n",
      "98  -- model FIT... -- nu: 0.003799999999999997 | kernel: rbf | gamma: 0.25\n",
      "FIT DONE\n",
      "PREDICT...\n",
      "PREDICT DONE\n",
      "{1: 49585, 0: 144961}\n",
      "-- F1:  0.06528909952606636  -- TIME: 33.41744136810303\n",
      "------------------------------------\n",
      "99  -- model FIT... -- nu: 0.003899999999999997 | kernel: rbf | gamma: 0.25\n",
      "FIT DONE\n",
      "PREDICT...\n",
      "PREDICT DONE\n",
      "{1: 43786, 0: 150760}\n",
      "-- F1:  0.07177695895721072  -- TIME: 36.08145594596863\n",
      "------------------------------------\n",
      "100  -- model FIT... -- nu: 0.002 | kernel: rbf | gamma: 0.3\n",
      "FIT DONE\n",
      "PREDICT...\n",
      "PREDICT DONE\n",
      "{1: 37726, 0: 156820}\n",
      "-- F1:  0.08021324985938226  -- TIME: 18.556980848312378\n",
      "------------------------------------\n",
      "101  -- model FIT... -- nu: 0.0021 | kernel: rbf | gamma: 0.3\n",
      "FIT DONE\n",
      "PREDICT...\n",
      "PREDICT DONE\n",
      "{0: 192158, 1: 2388}\n",
      "-- F1:  0.586349720871601  -- TIME: 19.60818076133728\n",
      "------------------------------------\n",
      "102  -- model FIT... -- nu: 0.0021999999999999997 | kernel: rbf | gamma: 0.3\n",
      "FIT DONE\n",
      "PREDICT...\n",
      "PREDICT DONE\n",
      "{1: 41476, 0: 153070}\n",
      "-- F1:  0.07472950874756389  -- TIME: 20.31703519821167\n",
      "------------------------------------\n",
      "103  -- model FIT... -- nu: 0.0022999999999999995 | kernel: rbf | gamma: 0.3\n",
      "FIT DONE\n",
      "PREDICT...\n",
      "PREDICT DONE\n",
      "{1: 44003, 0: 150543}\n",
      "-- F1:  0.07148914518317503  -- TIME: 21.393789291381836\n",
      "------------------------------------\n",
      "104  -- model FIT... -- nu: 0.0023999999999999994 | kernel: rbf | gamma: 0.3\n",
      "FIT DONE\n",
      "PREDICT...\n",
      "PREDICT DONE\n",
      "{1: 46009, 0: 148537}\n",
      "-- F1:  0.06910155773376175  -- TIME: 22.56378173828125\n",
      "------------------------------------\n",
      "105  -- model FIT... -- nu: 0.002499999999999999 | kernel: rbf | gamma: 0.3\n",
      "FIT DONE\n",
      "PREDICT...\n",
      "PREDICT DONE\n",
      "{0: 192113, 1: 2433}\n",
      "-- F1:  0.5823508395855662  -- TIME: 22.922568321228027\n",
      "------------------------------------\n",
      "106  -- model FIT... -- nu: 0.002599999999999999 | kernel: rbf | gamma: 0.3\n",
      "FIT DONE\n",
      "PREDICT...\n",
      "PREDICT DONE\n",
      "{0: 192108, 1: 2438}\n",
      "-- F1:  0.5818311618775656  -- TIME: 24.637349843978882\n",
      "------------------------------------\n",
      "107  -- model FIT... -- nu: 0.002699999999999999 | kernel: rbf | gamma: 0.3\n",
      "FIT DONE\n",
      "PREDICT...\n",
      "PREDICT DONE\n",
      "{0: 192097, 1: 2449}\n",
      "-- F1:  0.5806911293195582  -- TIME: 24.763556480407715\n",
      "------------------------------------\n",
      "108  -- model FIT... -- nu: 0.0027999999999999987 | kernel: rbf | gamma: 0.3\n",
      "FIT DONE\n",
      "PREDICT...\n",
      "PREDICT DONE\n",
      "{1: 52944, 0: 141602}\n",
      "-- F1:  0.0620934252971894  -- TIME: 25.71941089630127\n",
      "------------------------------------\n",
      "109  -- model FIT... -- nu: 0.0028999999999999985 | kernel: rbf | gamma: 0.3\n",
      "FIT DONE\n",
      "PREDICT...\n",
      "PREDICT DONE\n",
      "{0: 192078, 1: 2468}\n",
      "-- F1:  0.5787324693768863  -- TIME: 26.40565061569214\n",
      "------------------------------------\n",
      "110  -- model FIT... -- nu: 0.0029999999999999983 | kernel: rbf | gamma: 0.3\n"
     ]
    },
    {
     "name": "stdout",
     "output_type": "stream",
     "text": [
      "FIT DONE\n",
      "PREDICT...\n",
      "PREDICT DONE\n",
      "{0: 192065, 1: 2481}\n",
      "-- F1:  0.5773999291533829  -- TIME: 27.201972007751465\n",
      "------------------------------------\n",
      "111  -- model FIT... -- nu: 0.003099999999999998 | kernel: rbf | gamma: 0.3\n",
      "FIT DONE\n",
      "PREDICT...\n",
      "PREDICT DONE\n",
      "{1: 60088, 0: 134458}\n",
      "-- F1:  0.05644001075047824  -- TIME: 29.59064269065857\n",
      "------------------------------------\n",
      "112  -- model FIT... -- nu: 0.003199999999999998 | kernel: rbf | gamma: 0.3\n",
      "FIT DONE\n",
      "PREDICT...\n",
      "PREDICT DONE\n",
      "{1: 18743, 0: 175803}\n",
      "-- F1:  0.14898667153551212  -- TIME: 27.11749768257141\n",
      "------------------------------------\n",
      "113  -- model FIT... -- nu: 0.003299999999999998 | kernel: rbf | gamma: 0.3\n",
      "FIT DONE\n",
      "PREDICT...\n",
      "PREDICT DONE\n",
      "{1: 49010, 0: 145536}\n",
      "-- F1:  0.06589362721609966  -- TIME: 27.3825740814209\n",
      "------------------------------------\n",
      "114  -- model FIT... -- nu: 0.0033999999999999976 | kernel: rbf | gamma: 0.3\n",
      "FIT DONE\n",
      "PREDICT...\n",
      "PREDICT DONE\n",
      "{1: 59750, 0: 134796}\n",
      "-- F1:  0.05658428037828815  -- TIME: 32.5657742023468\n",
      "------------------------------------\n",
      "115  -- model FIT... -- nu: 0.0034999999999999975 | kernel: rbf | gamma: 0.3\n",
      "FIT DONE\n",
      "PREDICT...\n",
      "PREDICT DONE\n",
      "{0: 191987, 1: 2559}\n",
      "-- F1:  0.570230607966457  -- TIME: 33.9161422252655\n",
      "------------------------------------\n",
      "116  -- model FIT... -- nu: 0.0035999999999999973 | kernel: rbf | gamma: 0.3\n",
      "FIT DONE\n",
      "PREDICT...\n",
      "PREDICT DONE\n",
      "{0: 191980, 1: 2566}\n",
      "-- F1:  0.5695341127202931  -- TIME: 34.459757804870605\n",
      "------------------------------------\n",
      "117  -- model FIT... -- nu: 0.003699999999999997 | kernel: rbf | gamma: 0.3\n",
      "FIT DONE\n",
      "PREDICT...\n",
      "PREDICT DONE\n",
      "{0: 191960, 1: 2586}\n",
      "-- F1:  0.5675534689619196  -- TIME: 35.475807905197144\n",
      "------------------------------------\n",
      "118  -- model FIT... -- nu: 0.003799999999999997 | kernel: rbf | gamma: 0.3\n",
      "FIT DONE\n",
      "PREDICT...\n",
      "PREDICT DONE\n",
      "{1: 49689, 0: 144857}\n",
      "-- F1:  0.06519847126045332  -- TIME: 36.67765831947327\n",
      "------------------------------------\n",
      "119  -- model FIT... -- nu: 0.003899999999999997 | kernel: rbf | gamma: 0.3\n",
      "FIT DONE\n",
      "PREDICT...\n",
      "PREDICT DONE\n",
      "{1: 43729, 0: 150817}\n",
      "-- F1:  0.07186420437582633  -- TIME: 39.49879813194275\n",
      "------------------------------------\n",
      "120  -- model FIT... -- nu: 0.002 | kernel: rbf | gamma: 0.35000000000000003\n",
      "FIT DONE\n",
      "PREDICT...\n",
      "PREDICT DONE\n",
      "{1: 37680, 0: 156866}\n",
      "-- F1:  0.08030358673032195  -- TIME: 18.714452028274536\n",
      "------------------------------------\n",
      "121  -- model FIT... -- nu: 0.0021 | kernel: rbf | gamma: 0.35000000000000003\n",
      "FIT DONE\n",
      "PREDICT...\n",
      "PREDICT DONE\n",
      "{0: 192158, 1: 2388}\n",
      "-- F1:  0.586349720871601  -- TIME: 18.979919910430908\n",
      "------------------------------------\n",
      "122  -- model FIT... -- nu: 0.0021999999999999997 | kernel: rbf | gamma: 0.35000000000000003\n",
      "FIT DONE\n",
      "PREDICT...\n",
      "PREDICT DONE\n",
      "{1: 40955, 0: 153591}\n",
      "-- F1:  0.07543064369900271  -- TIME: 19.553086280822754\n",
      "------------------------------------\n",
      "123  -- model FIT... -- nu: 0.0022999999999999995 | kernel: rbf | gamma: 0.35000000000000003\n",
      "FIT DONE\n",
      "PREDICT...\n",
      "PREDICT DONE\n",
      "{1: 43962, 0: 150584}\n",
      "-- F1:  0.07155133999618053  -- TIME: 19.42186164855957\n",
      "------------------------------------\n",
      "124  -- model FIT... -- nu: 0.0023999999999999994 | kernel: rbf | gamma: 0.35000000000000003\n",
      "FIT DONE\n",
      "PREDICT...\n",
      "PREDICT DONE\n",
      "{0: 192119, 1: 2427}\n",
      "-- F1:  0.5829756795422031  -- TIME: 20.036712646484375\n",
      "------------------------------------\n",
      "125  -- model FIT... -- nu: 0.002499999999999999 | kernel: rbf | gamma: 0.35000000000000003\n",
      "FIT DONE\n",
      "PREDICT...\n",
      "PREDICT DONE\n",
      "{1: 47448, 0: 147098}\n",
      "-- F1:  0.06749254144192204  -- TIME: 21.443257570266724\n",
      "------------------------------------\n",
      "126  -- model FIT... -- nu: 0.002599999999999999 | kernel: rbf | gamma: 0.35000000000000003\n",
      "FIT DONE\n",
      "PREDICT...\n",
      "PREDICT DONE\n",
      "{0: 192107, 1: 2439}\n",
      "-- F1:  0.5817273376159886  -- TIME: 21.81051254272461\n",
      "------------------------------------\n",
      "127  -- model FIT... -- nu: 0.002699999999999999 | kernel: rbf | gamma: 0.35000000000000003\n",
      "FIT DONE\n",
      "PREDICT...\n",
      "PREDICT DONE\n",
      "{1: 50457, 0: 144089}\n",
      "-- F1:  0.06441385998284285  -- TIME: 22.61678957939148\n",
      "------------------------------------\n",
      "128  -- model FIT... -- nu: 0.0027999999999999987 | kernel: rbf | gamma: 0.35000000000000003\n",
      "FIT DONE\n",
      "PREDICT...\n",
      "PREDICT DONE\n",
      "{0: 192083, 1: 2463}\n",
      "-- F1:  0.5792466240227434  -- TIME: 23.226496696472168\n",
      "------------------------------------\n",
      "129  -- model FIT... -- nu: 0.0028999999999999985 | kernel: rbf | gamma: 0.35000000000000003\n",
      "FIT DONE\n",
      "PREDICT...\n",
      "PREDICT DONE\n",
      "{1: 55176, 0: 139370}\n",
      "-- F1:  0.06023208378327419  -- TIME: 24.046992778778076\n",
      "------------------------------------\n",
      "130  -- model FIT... -- nu: 0.0029999999999999983 | kernel: rbf | gamma: 0.35000000000000003\n",
      "FIT DONE\n",
      "PREDICT...\n",
      "PREDICT DONE\n",
      "{1: 57105, 0: 137441}\n",
      "-- F1:  0.05863613738178198  -- TIME: 25.012694835662842\n",
      "------------------------------------\n",
      "131  -- model FIT... -- nu: 0.003099999999999998 | kernel: rbf | gamma: 0.35000000000000003\n",
      "FIT DONE\n",
      "PREDICT...\n",
      "PREDICT DONE\n",
      "{1: 59797, 0: 134749}\n",
      "-- F1:  0.056573806422921764  -- TIME: 25.80937886238098\n",
      "------------------------------------\n",
      "132  -- model FIT... -- nu: 0.003199999999999998 | kernel: rbf | gamma: 0.35000000000000003\n",
      "FIT DONE\n",
      "PREDICT...\n",
      "PREDICT DONE\n",
      "{1: 18675, 0: 175871}\n",
      "-- F1:  0.14945054945054945  -- TIME: 26.613728523254395\n",
      "------------------------------------\n",
      "133  -- model FIT... -- nu: 0.003299999999999998 | kernel: rbf | gamma: 0.35000000000000003\n",
      "FIT DONE\n",
      "PREDICT...\n",
      "PREDICT DONE\n",
      "{1: 49031, 0: 145515}\n",
      "-- F1:  0.06590543336654149  -- TIME: 27.502556562423706\n",
      "------------------------------------\n",
      "134  -- model FIT... -- nu: 0.0033999999999999976 | kernel: rbf | gamma: 0.35000000000000003\n",
      "FIT DONE\n",
      "PREDICT...\n",
      "PREDICT DONE\n",
      "{0: 191998, 1: 2548}\n",
      "-- F1:  0.5713285489235077  -- TIME: 28.7787184715271\n",
      "------------------------------------\n",
      "135  -- model FIT... -- nu: 0.0034999999999999975 | kernel: rbf | gamma: 0.35000000000000003\n",
      "FIT DONE\n",
      "PREDICT...\n",
      "PREDICT DONE\n",
      "{0: 191987, 1: 2559}\n",
      "-- F1:  0.570230607966457  -- TIME: 30.40359377861023\n",
      "------------------------------------\n",
      "136  -- model FIT... -- nu: 0.0035999999999999973 | kernel: rbf | gamma: 0.35000000000000003\n",
      "FIT DONE\n",
      "PREDICT...\n",
      "PREDICT DONE\n",
      "{0: 191976, 1: 2570}\n",
      "-- F1:  0.5691368788142982  -- TIME: 30.104146718978882\n",
      "------------------------------------\n",
      "137  -- model FIT... -- nu: 0.003699999999999997 | kernel: rbf | gamma: 0.35000000000000003\n",
      "FIT DONE\n",
      "PREDICT...\n",
      "PREDICT DONE\n",
      "{1: 65519, 0: 129027}\n",
      "-- F1:  0.05424844214081882  -- TIME: 31.047607898712158\n",
      "------------------------------------\n",
      "138  -- model FIT... -- nu: 0.003799999999999997 | kernel: rbf | gamma: 0.35000000000000003\n",
      "FIT DONE\n",
      "PREDICT...\n",
      "PREDICT DONE\n",
      "{1: 49791, 0: 144755}\n",
      "-- F1:  0.06511065790467559  -- TIME: 31.5910964012146\n",
      "------------------------------------\n",
      "139  -- model FIT... -- nu: 0.003899999999999997 | kernel: rbf | gamma: 0.35000000000000003\n",
      "FIT DONE\n",
      "PREDICT...\n",
      "PREDICT DONE\n",
      "{1: 43861, 0: 150685}\n",
      "-- F1:  0.07170501424743758  -- TIME: 32.29496455192566\n",
      "------------------------------------\n",
      "140  -- model FIT... -- nu: 0.002 | kernel: rbf | gamma: 0.4\n",
      "FIT DONE\n",
      "PREDICT...\n",
      "PREDICT DONE\n",
      "{1: 37646, 0: 156900}\n",
      "-- F1:  0.08032148195339492  -- TIME: 17.11752152442932\n",
      "------------------------------------\n",
      "141  -- model FIT... -- nu: 0.0021 | kernel: rbf | gamma: 0.4\n",
      "FIT DONE\n",
      "PREDICT...\n",
      "PREDICT DONE\n",
      "{0: 192158, 1: 2388}\n",
      "-- F1:  0.586349720871601  -- TIME: 17.787755489349365\n",
      "------------------------------------\n",
      "142  -- model FIT... -- nu: 0.0021999999999999997 | kernel: rbf | gamma: 0.4\n",
      "FIT DONE\n",
      "PREDICT...\n",
      "PREDICT DONE\n",
      "{0: 192148, 1: 2398}\n",
      "-- F1:  0.5856552220025166  -- TIME: 18.63124990463257\n",
      "------------------------------------\n",
      "143  -- model FIT... -- nu: 0.0022999999999999995 | kernel: rbf | gamma: 0.4\n",
      "FIT DONE\n",
      "PREDICT...\n",
      "PREDICT DONE\n",
      "{0: 192135, 1: 2411}\n",
      "-- F1:  0.5842898134863701  -- TIME: 19.455941438674927\n",
      "------------------------------------\n",
      "144  -- model FIT... -- nu: 0.0023999999999999994 | kernel: rbf | gamma: 0.4\n",
      "FIT DONE\n",
      "PREDICT...\n",
      "PREDICT DONE\n",
      "{0: 192119, 1: 2427}\n",
      "-- F1:  0.5829756795422031  -- TIME: 20.135773181915283\n",
      "------------------------------------\n",
      "145  -- model FIT... -- nu: 0.002499999999999999 | kernel: rbf | gamma: 0.4\n",
      "FIT DONE\n",
      "PREDICT...\n",
      "PREDICT DONE\n",
      "{0: 192113, 1: 2433}\n",
      "-- F1:  0.5823508395855662  -- TIME: 20.876325845718384\n",
      "------------------------------------\n",
      "146  -- model FIT... -- nu: 0.002599999999999999 | kernel: rbf | gamma: 0.4\n"
     ]
    },
    {
     "name": "stdout",
     "output_type": "stream",
     "text": [
      "FIT DONE\n",
      "PREDICT...\n",
      "PREDICT DONE\n",
      "{1: 48559, 0: 145987}\n",
      "-- F1:  0.06631351016936045  -- TIME: 21.920648097991943\n",
      "------------------------------------\n",
      "147  -- model FIT... -- nu: 0.002699999999999999 | kernel: rbf | gamma: 0.4\n",
      "FIT DONE\n",
      "PREDICT...\n",
      "PREDICT DONE\n",
      "{0: 192097, 1: 2449}\n",
      "-- F1:  0.5806911293195582  -- TIME: 22.542134761810303\n",
      "------------------------------------\n",
      "148  -- model FIT... -- nu: 0.0027999999999999987 | kernel: rbf | gamma: 0.4\n",
      "FIT DONE\n",
      "PREDICT...\n",
      "PREDICT DONE\n",
      "{0: 192080, 1: 2466}\n",
      "-- F1:  0.5789380216657787  -- TIME: 23.319283962249756\n",
      "------------------------------------\n",
      "149  -- model FIT... -- nu: 0.0028999999999999985 | kernel: rbf | gamma: 0.4\n",
      "FIT DONE\n",
      "PREDICT...\n",
      "PREDICT DONE\n",
      "{1: 54811, 0: 139735}\n",
      "-- F1:  0.06054229336277079  -- TIME: 24.175982236862183\n",
      "------------------------------------\n",
      "150  -- model FIT... -- nu: 0.0029999999999999983 | kernel: rbf | gamma: 0.4\n",
      "FIT DONE\n",
      "PREDICT...\n",
      "PREDICT DONE\n",
      "{0: 192064, 1: 2482}\n",
      "-- F1:  0.5772976801841685  -- TIME: 25.07865047454834\n",
      "------------------------------------\n",
      "151  -- model FIT... -- nu: 0.003099999999999998 | kernel: rbf | gamma: 0.4\n",
      "FIT DONE\n",
      "PREDICT...\n",
      "PREDICT DONE\n",
      "{0: 192049, 1: 2497}\n",
      "-- F1:  0.5761215118332744  -- TIME: 25.729087829589844\n",
      "------------------------------------\n",
      "152  -- model FIT... -- nu: 0.003199999999999998 | kernel: rbf | gamma: 0.4\n",
      "FIT DONE\n",
      "PREDICT...\n",
      "PREDICT DONE\n",
      "{1: 18780, 0: 175766}\n",
      "-- F1:  0.14873547505126453  -- TIME: 26.632899522781372\n",
      "------------------------------------\n",
      "153  -- model FIT... -- nu: 0.003299999999999998 | kernel: rbf | gamma: 0.4\n",
      "FIT DONE\n",
      "PREDICT...\n",
      "PREDICT DONE\n",
      "{1: 48833, 0: 145713}\n",
      "-- F1:  0.06611792761260049  -- TIME: 27.437827348709106\n",
      "------------------------------------\n",
      "154  -- model FIT... -- nu: 0.0033999999999999976 | kernel: rbf | gamma: 0.4\n",
      "FIT DONE\n",
      "PREDICT...\n",
      "PREDICT DONE\n",
      "{1: 59452, 0: 135094}\n",
      "-- F1:  0.05678968970087996  -- TIME: 28.228846549987793\n",
      "------------------------------------\n",
      "155  -- model FIT... -- nu: 0.0034999999999999975 | kernel: rbf | gamma: 0.4\n",
      "FIT DONE\n",
      "PREDICT...\n",
      "PREDICT DONE\n",
      "{1: 61053, 0: 133493}\n",
      "-- F1:  0.05593447320066026  -- TIME: 29.386470556259155\n",
      "------------------------------------\n",
      "156  -- model FIT... -- nu: 0.0035999999999999973 | kernel: rbf | gamma: 0.4\n",
      "FIT DONE\n",
      "PREDICT...\n",
      "PREDICT DONE\n",
      "{0: 191974, 1: 2572}\n",
      "-- F1:  0.568938469583406  -- TIME: 30.968018054962158\n",
      "------------------------------------\n",
      "157  -- model FIT... -- nu: 0.003699999999999997 | kernel: rbf | gamma: 0.4\n",
      "FIT DONE\n",
      "PREDICT...\n",
      "PREDICT DONE\n",
      "{0: 191956, 1: 2590}\n",
      "-- F1:  0.5671589921807124  -- TIME: 30.896843671798706\n",
      "------------------------------------\n",
      "158  -- model FIT... -- nu: 0.003799999999999997 | kernel: rbf | gamma: 0.4\n",
      "FIT DONE\n",
      "PREDICT...\n",
      "PREDICT DONE\n",
      "{1: 49788, 0: 144758}\n",
      "-- F1:  0.06511434668479595  -- TIME: 31.540818691253662\n",
      "------------------------------------\n",
      "159  -- model FIT... -- nu: 0.003899999999999997 | kernel: rbf | gamma: 0.4\n",
      "FIT DONE\n",
      "PREDICT...\n",
      "PREDICT DONE\n",
      "{1: 43676, 0: 150870}\n",
      "-- F1:  0.07194551781558892  -- TIME: 32.46758818626404\n",
      "------------------------------------\n",
      "160  -- model FIT... -- nu: 0.002 | kernel: rbf | gamma: 0.45\n",
      "FIT DONE\n",
      "PREDICT...\n",
      "PREDICT DONE\n",
      "{1: 37756, 0: 156790}\n",
      "-- F1:  0.08015444392854525  -- TIME: 17.04891085624695\n",
      "------------------------------------\n",
      "161  -- model FIT... -- nu: 0.0021 | kernel: rbf | gamma: 0.45\n",
      "FIT DONE\n",
      "PREDICT...\n",
      "PREDICT DONE\n",
      "{0: 192157, 1: 2389}\n",
      "-- F1:  0.5862441483615412  -- TIME: 17.961129188537598\n",
      "------------------------------------\n",
      "162  -- model FIT... -- nu: 0.0021999999999999997 | kernel: rbf | gamma: 0.45\n",
      "FIT DONE\n",
      "PREDICT...\n",
      "PREDICT DONE\n",
      "{1: 40780, 0: 153766}\n",
      "-- F1:  0.07568551598589146  -- TIME: 18.732449531555176\n",
      "------------------------------------\n",
      "163  -- model FIT... -- nu: 0.0022999999999999995 | kernel: rbf | gamma: 0.45\n",
      "FIT DONE\n",
      "PREDICT...\n",
      "PREDICT DONE\n",
      "{1: 43827, 0: 150719}\n",
      "-- F1:  0.07171433435478379  -- TIME: 19.324486017227173\n",
      "------------------------------------\n",
      "164  -- model FIT... -- nu: 0.0023999999999999994 | kernel: rbf | gamma: 0.45\n",
      "FIT DONE\n",
      "PREDICT...\n",
      "PREDICT DONE\n",
      "{0: 192119, 1: 2427}\n",
      "-- F1:  0.5829756795422031  -- TIME: 20.393352031707764\n",
      "------------------------------------\n",
      "165  -- model FIT... -- nu: 0.002499999999999999 | kernel: rbf | gamma: 0.45\n",
      "FIT DONE\n",
      "PREDICT...\n",
      "PREDICT DONE\n",
      "{0: 192111, 1: 2435}\n",
      "-- F1:  0.5821428571428572  -- TIME: 21.246094226837158\n",
      "------------------------------------\n",
      "166  -- model FIT... -- nu: 0.002599999999999999 | kernel: rbf | gamma: 0.45\n",
      "FIT DONE\n",
      "PREDICT...\n",
      "PREDICT DONE\n",
      "{0: 192106, 1: 2440}\n",
      "-- F1:  0.5816235504014272  -- TIME: 21.798989295959473\n",
      "------------------------------------\n",
      "167  -- model FIT... -- nu: 0.002699999999999999 | kernel: rbf | gamma: 0.45\n",
      "FIT DONE\n",
      "PREDICT...\n",
      "PREDICT DONE\n",
      "{1: 50204, 0: 144342}\n",
      "-- F1:  0.06464426914500927  -- TIME: 22.605494022369385\n",
      "------------------------------------\n",
      "168  -- model FIT... -- nu: 0.0027999999999999987 | kernel: rbf | gamma: 0.45\n",
      "FIT DONE\n",
      "PREDICT...\n",
      "PREDICT DONE\n",
      "{0: 192080, 1: 2466}\n",
      "-- F1:  0.5789380216657787  -- TIME: 24.69664740562439\n",
      "------------------------------------\n",
      "169  -- model FIT... -- nu: 0.0028999999999999985 | kernel: rbf | gamma: 0.45\n",
      "FIT DONE\n",
      "PREDICT...\n",
      "PREDICT DONE\n",
      "{0: 192070, 1: 2476}\n",
      "-- F1:  0.5779117177805353  -- TIME: 27.660386323928833\n",
      "------------------------------------\n",
      "170  -- model FIT... -- nu: 0.0029999999999999983 | kernel: rbf | gamma: 0.45\n",
      "FIT DONE\n",
      "PREDICT...\n",
      "PREDICT DONE\n",
      "{0: 192064, 1: 2482}\n",
      "-- F1:  0.5772976801841685  -- TIME: 27.83155369758606\n",
      "------------------------------------\n",
      "171  -- model FIT... -- nu: 0.003099999999999998 | kernel: rbf | gamma: 0.45\n",
      "FIT DONE\n",
      "PREDICT...\n",
      "PREDICT DONE\n",
      "{0: 192047, 1: 2499}\n",
      "-- F1:  0.5759180790960451  -- TIME: 28.911758184432983\n",
      "------------------------------------\n",
      "172  -- model FIT... -- nu: 0.003199999999999998 | kernel: rbf | gamma: 0.45\n",
      "FIT DONE\n",
      "PREDICT...\n",
      "PREDICT DONE\n",
      "{1: 18672, 0: 175874}\n",
      "-- F1:  0.1494710811924715  -- TIME: 31.336143732070923\n",
      "------------------------------------\n",
      "173  -- model FIT... -- nu: 0.003299999999999998 | kernel: rbf | gamma: 0.45\n",
      "FIT DONE\n",
      "PREDICT...\n",
      "PREDICT DONE\n",
      "{1: 48871, 0: 145675}\n",
      "-- F1:  0.06606964409255132  -- TIME: 32.13455104827881\n",
      "------------------------------------\n",
      "174  -- model FIT... -- nu: 0.0033999999999999976 | kernel: rbf | gamma: 0.45\n",
      "FIT DONE\n",
      "PREDICT...\n",
      "PREDICT DONE\n",
      "{0: 191993, 1: 2553}\n",
      "-- F1:  0.5708289611752361  -- TIME: 32.883947134017944\n",
      "------------------------------------\n",
      "175  -- model FIT... -- nu: 0.0034999999999999975 | kernel: rbf | gamma: 0.45\n",
      "FIT DONE\n",
      "PREDICT...\n",
      "PREDICT DONE\n",
      "{0: 191986, 1: 2560}\n",
      "-- F1:  0.5701310043668123  -- TIME: 35.58397173881531\n",
      "------------------------------------\n",
      "176  -- model FIT... -- nu: 0.0035999999999999973 | kernel: rbf | gamma: 0.45\n",
      "FIT DONE\n",
      "PREDICT...\n",
      "PREDICT DONE\n",
      "{0: 191973, 1: 2573}\n",
      "-- F1:  0.5688393168351342  -- TIME: 36.03747868537903\n",
      "------------------------------------\n",
      "177  -- model FIT... -- nu: 0.003699999999999997 | kernel: rbf | gamma: 0.45\n",
      "FIT DONE\n",
      "PREDICT...\n",
      "PREDICT DONE\n",
      "{1: 64956, 0: 129590}\n",
      "-- F1:  0.05452063240410446  -- TIME: 35.12259531021118\n",
      "------------------------------------\n",
      "178  -- model FIT... -- nu: 0.003799999999999997 | kernel: rbf | gamma: 0.45\n",
      "FIT DONE\n",
      "PREDICT...\n",
      "PREDICT DONE\n",
      "{1: 49646, 0: 144900}\n",
      "-- F1:  0.0652515574406847  -- TIME: 38.902493953704834\n",
      "------------------------------------\n",
      "179  -- model FIT... -- nu: 0.003899999999999997 | kernel: rbf | gamma: 0.45\n",
      "FIT DONE\n",
      "PREDICT...\n",
      "PREDICT DONE\n",
      "{1: 43762, 0: 150784}\n",
      "-- F1:  0.07181366803759029  -- TIME: 34.85553765296936\n",
      "------------------------------------\n",
      "180  -- model FIT... -- nu: 0.002 | kernel: rbf | gamma: 0.5\n",
      "FIT DONE\n",
      "PREDICT...\n",
      "PREDICT DONE\n",
      "{1: 37505, 0: 157041}\n",
      "-- F1:  0.08059995082370297  -- TIME: 19.189305543899536\n",
      "------------------------------------\n",
      "181  -- model FIT... -- nu: 0.0021 | kernel: rbf | gamma: 0.5\n",
      "FIT DONE\n",
      "PREDICT...\n",
      "PREDICT DONE\n",
      "{0: 192157, 1: 2389}\n",
      "-- F1:  0.5862441483615412  -- TIME: 21.532148361206055\n",
      "------------------------------------\n",
      "182  -- model FIT... -- nu: 0.0021999999999999997 | kernel: rbf | gamma: 0.5\n",
      "FIT DONE\n",
      "PREDICT...\n",
      "PREDICT DONE\n",
      "{0: 192145, 1: 2401}\n",
      "-- F1:  0.5853395616241466  -- TIME: 21.35645580291748\n",
      "------------------------------------\n",
      "183  -- model FIT... -- nu: 0.0022999999999999995 | kernel: rbf | gamma: 0.5\n"
     ]
    },
    {
     "name": "stdout",
     "output_type": "stream",
     "text": [
      "FIT DONE\n",
      "PREDICT...\n",
      "PREDICT DONE\n",
      "{0: 192133, 1: 2413}\n",
      "-- F1:  0.5844388669774113  -- TIME: 22.327598094940186\n",
      "------------------------------------\n",
      "184  -- model FIT... -- nu: 0.0023999999999999994 | kernel: rbf | gamma: 0.5\n",
      "FIT DONE\n",
      "PREDICT...\n",
      "PREDICT DONE\n",
      "{1: 45809, 0: 148737}\n",
      "-- F1:  0.06934291664965082  -- TIME: 21.907414197921753\n",
      "------------------------------------\n",
      "185  -- model FIT... -- nu: 0.002499999999999999 | kernel: rbf | gamma: 0.5\n",
      "FIT DONE\n",
      "PREDICT...\n",
      "PREDICT DONE\n",
      "{0: 192111, 1: 2435}\n",
      "-- F1:  0.5821428571428572  -- TIME: 23.79226040840149\n",
      "------------------------------------\n",
      "186  -- model FIT... -- nu: 0.002599999999999999 | kernel: rbf | gamma: 0.5\n",
      "FIT DONE\n",
      "PREDICT...\n",
      "PREDICT DONE\n",
      "{1: 48535, 0: 146011}\n",
      "-- F1:  0.06634429400386846  -- TIME: 23.70145583152771\n",
      "------------------------------------\n",
      "187  -- model FIT... -- nu: 0.002699999999999999 | kernel: rbf | gamma: 0.5\n",
      "FIT DONE\n",
      "PREDICT...\n",
      "PREDICT DONE\n",
      "{0: 192096, 1: 2450}\n",
      "-- F1:  0.5805877114870881  -- TIME: 25.61621356010437\n",
      "------------------------------------\n",
      "188  -- model FIT... -- nu: 0.0027999999999999987 | kernel: rbf | gamma: 0.5\n",
      "FIT DONE\n",
      "PREDICT...\n",
      "PREDICT DONE\n",
      "{0: 192080, 1: 2466}\n",
      "-- F1:  0.5789380216657787  -- TIME: 25.08190369606018\n",
      "------------------------------------\n",
      "189  -- model FIT... -- nu: 0.0028999999999999985 | kernel: rbf | gamma: 0.5\n",
      "FIT DONE\n",
      "PREDICT...\n",
      "PREDICT DONE\n",
      "{1: 54719, 0: 139827}\n",
      "-- F1:  0.060603966553797246  -- TIME: 25.3366801738739\n",
      "------------------------------------\n",
      "190  -- model FIT... -- nu: 0.0029999999999999983 | kernel: rbf | gamma: 0.5\n",
      "FIT DONE\n",
      "PREDICT...\n",
      "PREDICT DONE\n",
      "{0: 192064, 1: 2482}\n",
      "-- F1:  0.5772976801841685  -- TIME: 26.700276374816895\n",
      "------------------------------------\n",
      "191  -- model FIT... -- nu: 0.003099999999999998 | kernel: rbf | gamma: 0.5\n",
      "FIT DONE\n",
      "PREDICT...\n",
      "PREDICT DONE\n",
      "{1: 59602, 0: 134944}\n",
      "-- F1:  0.05668583809963835  -- TIME: 27.955962896347046\n",
      "------------------------------------\n",
      "192  -- model FIT... -- nu: 0.003199999999999998 | kernel: rbf | gamma: 0.5\n",
      "FIT DONE\n",
      "PREDICT...\n",
      "PREDICT DONE\n",
      "{1: 18691, 0: 175855}\n",
      "-- F1:  0.14934114202049778  -- TIME: 28.397374153137207\n",
      "------------------------------------\n",
      "193  -- model FIT... -- nu: 0.003299999999999998 | kernel: rbf | gamma: 0.5\n",
      "FIT DONE\n",
      "PREDICT...\n",
      "PREDICT DONE\n",
      "{1: 48955, 0: 145591}\n",
      "-- F1:  0.06596316193399845  -- TIME: 29.519145250320435\n",
      "------------------------------------\n",
      "194  -- model FIT... -- nu: 0.0033999999999999976 | kernel: rbf | gamma: 0.5\n",
      "FIT DONE\n",
      "PREDICT...\n",
      "PREDICT DONE\n",
      "{1: 59076, 0: 135470}\n",
      "-- F1:  0.057100624989958396  -- TIME: 30.193440198898315\n",
      "------------------------------------\n",
      "195  -- model FIT... -- nu: 0.0034999999999999975 | kernel: rbf | gamma: 0.5\n",
      "FIT DONE\n",
      "PREDICT...\n",
      "PREDICT DONE\n",
      "{1: 60962, 0: 133584}\n",
      "-- F1:  0.05598265941023282  -- TIME: 32.051182985305786\n",
      "------------------------------------\n",
      "196  -- model FIT... -- nu: 0.0035999999999999973 | kernel: rbf | gamma: 0.5\n",
      "FIT DONE\n",
      "PREDICT...\n",
      "PREDICT DONE\n",
      "{1: 62870, 0: 131676}\n",
      "-- F1:  0.055364579389717575  -- TIME: 37.32225584983826\n",
      "------------------------------------\n",
      "197  -- model FIT... -- nu: 0.003699999999999997 | kernel: rbf | gamma: 0.5\n",
      "FIT DONE\n",
      "PREDICT...\n",
      "PREDICT DONE\n",
      "{0: 191955, 1: 2591}\n",
      "-- F1:  0.5670604586518415  -- TIME: 34.79616403579712\n",
      "------------------------------------\n",
      "198  -- model FIT... -- nu: 0.003799999999999997 | kernel: rbf | gamma: 0.5\n",
      "FIT DONE\n",
      "PREDICT...\n",
      "PREDICT DONE\n",
      "{1: 49860, 0: 144686}\n",
      "-- F1:  0.06502593116454504  -- TIME: 35.51737713813782\n",
      "------------------------------------\n",
      "199  -- model FIT... -- nu: 0.003899999999999997 | kernel: rbf | gamma: 0.5\n",
      "FIT DONE\n",
      "PREDICT...\n",
      "PREDICT DONE\n",
      "{1: 43700, 0: 150846}\n",
      "-- F1:  0.07190867385042142  -- TIME: 36.69943690299988\n",
      "------------------------------------\n",
      "200  -- model FIT... -- nu: 0.002 | kernel: rbf | gamma: 0.55\n",
      "FIT DONE\n",
      "PREDICT...\n",
      "PREDICT DONE\n",
      "{1: 37632, 0: 156914}\n",
      "-- F1:  0.08030002206044562  -- TIME: 19.416114330291748\n",
      "------------------------------------\n",
      "201  -- model FIT... -- nu: 0.0021 | kernel: rbf | gamma: 0.55\n",
      "FIT DONE\n",
      "PREDICT...\n",
      "PREDICT DONE\n",
      "{0: 192157, 1: 2389}\n",
      "-- F1:  0.5862441483615412  -- TIME: 21.361604690551758\n",
      "------------------------------------\n",
      "202  -- model FIT... -- nu: 0.0021999999999999997 | kernel: rbf | gamma: 0.55\n",
      "FIT DONE\n",
      "PREDICT...\n",
      "PREDICT DONE\n",
      "{0: 192145, 1: 2401}\n",
      "-- F1:  0.5853395616241466  -- TIME: 20.066712617874146\n",
      "------------------------------------\n",
      "203  -- model FIT... -- nu: 0.0022999999999999995 | kernel: rbf | gamma: 0.55\n",
      "FIT DONE\n",
      "PREDICT...\n",
      "PREDICT DONE\n",
      "{0: 192133, 1: 2413}\n",
      "-- F1:  0.5844388669774113  -- TIME: 21.07840323448181\n",
      "------------------------------------\n",
      "204  -- model FIT... -- nu: 0.0023999999999999994 | kernel: rbf | gamma: 0.55\n",
      "FIT DONE\n",
      "PREDICT...\n",
      "PREDICT DONE\n",
      "{0: 192117, 1: 2429}\n",
      "-- F1:  0.5827672506256703  -- TIME: 23.105815649032593\n",
      "------------------------------------\n",
      "205  -- model FIT... -- nu: 0.002499999999999999 | kernel: rbf | gamma: 0.55\n",
      "FIT DONE\n",
      "PREDICT...\n",
      "PREDICT DONE\n",
      "{0: 192111, 1: 2435}\n",
      "-- F1:  0.5821428571428572  -- TIME: 25.00139546394348\n",
      "------------------------------------\n",
      "206  -- model FIT... -- nu: 0.002599999999999999 | kernel: rbf | gamma: 0.55\n",
      "FIT DONE\n",
      "PREDICT...\n",
      "PREDICT DONE\n",
      "{0: 192104, 1: 2442}\n",
      "-- F1:  0.5814160870340646  -- TIME: 24.05368685722351\n",
      "------------------------------------\n",
      "207  -- model FIT... -- nu: 0.002699999999999999 | kernel: rbf | gamma: 0.55\n"
     ]
    },
    {
     "ename": "KeyboardInterrupt",
     "evalue": "",
     "output_type": "error",
     "traceback": [
      "\u001b[1;31m---------------------------------------------------------------------------\u001b[0m",
      "\u001b[1;31mKeyboardInterrupt\u001b[0m                         Traceback (most recent call last)",
      "\u001b[1;32m~\\AppData\\Local\\Temp/ipykernel_7576/2015819704.py\u001b[0m in \u001b[0;36m<module>\u001b[1;34m\u001b[0m\n\u001b[0;32m     11\u001b[0m         \u001b[0mprint\u001b[0m\u001b[1;33m(\u001b[0m\u001b[0mnum\u001b[0m\u001b[1;33m,\u001b[0m \u001b[1;34m\" -- model FIT... -- nu:\"\u001b[0m\u001b[1;33m,\u001b[0m \u001b[0mnu\u001b[0m\u001b[1;33m,\u001b[0m \u001b[1;34m\"| kernel: rbf\"\u001b[0m\u001b[1;33m,\u001b[0m \u001b[1;34m'| gamma:'\u001b[0m\u001b[1;33m,\u001b[0m \u001b[0mgamma\u001b[0m\u001b[1;33m)\u001b[0m\u001b[1;33m\u001b[0m\u001b[1;33m\u001b[0m\u001b[0m\n\u001b[0;32m     12\u001b[0m         \u001b[0mclf_1\u001b[0m \u001b[1;33m=\u001b[0m \u001b[0msvm\u001b[0m\u001b[1;33m.\u001b[0m\u001b[0mOneClassSVM\u001b[0m\u001b[1;33m(\u001b[0m\u001b[0mnu\u001b[0m\u001b[1;33m=\u001b[0m\u001b[0mnu\u001b[0m\u001b[1;33m,\u001b[0m \u001b[0mkernel\u001b[0m\u001b[1;33m=\u001b[0m\u001b[1;34m\"rbf\"\u001b[0m\u001b[1;33m,\u001b[0m \u001b[0mgamma\u001b[0m\u001b[1;33m=\u001b[0m\u001b[0mgamma\u001b[0m\u001b[1;33m)\u001b[0m\u001b[1;33m\u001b[0m\u001b[1;33m\u001b[0m\u001b[0m\n\u001b[1;32m---> 13\u001b[1;33m         \u001b[0mclf_1\u001b[0m\u001b[1;33m.\u001b[0m\u001b[0mfit\u001b[0m\u001b[1;33m(\u001b[0m\u001b[0mmse_train_rs\u001b[0m\u001b[1;33m)\u001b[0m\u001b[1;33m\u001b[0m\u001b[1;33m\u001b[0m\u001b[0m\n\u001b[0m\u001b[0;32m     14\u001b[0m         \u001b[0mprint\u001b[0m\u001b[1;33m(\u001b[0m\u001b[1;34m'FIT DONE'\u001b[0m\u001b[1;33m)\u001b[0m\u001b[1;33m\u001b[0m\u001b[1;33m\u001b[0m\u001b[0m\n\u001b[0;32m     15\u001b[0m         \u001b[0mprint\u001b[0m\u001b[1;33m(\u001b[0m\u001b[1;34m'PREDICT...'\u001b[0m\u001b[1;33m)\u001b[0m\u001b[1;33m\u001b[0m\u001b[1;33m\u001b[0m\u001b[0m\n",
      "\u001b[1;32mC:\\ProgramData\\Anaconda3\\lib\\site-packages\\sklearn\\svm\\_classes.py\u001b[0m in \u001b[0;36mfit\u001b[1;34m(self, X, y, sample_weight, **params)\u001b[0m\n\u001b[0;32m   1374\u001b[0m \u001b[1;33m\u001b[0m\u001b[0m\n\u001b[0;32m   1375\u001b[0m         \"\"\"\n\u001b[1;32m-> 1376\u001b[1;33m         super().fit(X, np.ones(_num_samples(X)),\n\u001b[0m\u001b[0;32m   1377\u001b[0m                     sample_weight=sample_weight, **params)\n\u001b[0;32m   1378\u001b[0m         \u001b[0mself\u001b[0m\u001b[1;33m.\u001b[0m\u001b[0moffset_\u001b[0m \u001b[1;33m=\u001b[0m \u001b[1;33m-\u001b[0m\u001b[0mself\u001b[0m\u001b[1;33m.\u001b[0m\u001b[0m_intercept_\u001b[0m\u001b[1;33m\u001b[0m\u001b[1;33m\u001b[0m\u001b[0m\n",
      "\u001b[1;32mC:\\ProgramData\\Anaconda3\\lib\\site-packages\\sklearn\\svm\\_base.py\u001b[0m in \u001b[0;36mfit\u001b[1;34m(self, X, y, sample_weight)\u001b[0m\n\u001b[0;32m    224\u001b[0m \u001b[1;33m\u001b[0m\u001b[0m\n\u001b[0;32m    225\u001b[0m         \u001b[0mseed\u001b[0m \u001b[1;33m=\u001b[0m \u001b[0mrnd\u001b[0m\u001b[1;33m.\u001b[0m\u001b[0mrandint\u001b[0m\u001b[1;33m(\u001b[0m\u001b[0mnp\u001b[0m\u001b[1;33m.\u001b[0m\u001b[0miinfo\u001b[0m\u001b[1;33m(\u001b[0m\u001b[1;34m'i'\u001b[0m\u001b[1;33m)\u001b[0m\u001b[1;33m.\u001b[0m\u001b[0mmax\u001b[0m\u001b[1;33m)\u001b[0m\u001b[1;33m\u001b[0m\u001b[1;33m\u001b[0m\u001b[0m\n\u001b[1;32m--> 226\u001b[1;33m         \u001b[0mfit\u001b[0m\u001b[1;33m(\u001b[0m\u001b[0mX\u001b[0m\u001b[1;33m,\u001b[0m \u001b[0my\u001b[0m\u001b[1;33m,\u001b[0m \u001b[0msample_weight\u001b[0m\u001b[1;33m,\u001b[0m \u001b[0msolver_type\u001b[0m\u001b[1;33m,\u001b[0m \u001b[0mkernel\u001b[0m\u001b[1;33m,\u001b[0m \u001b[0mrandom_seed\u001b[0m\u001b[1;33m=\u001b[0m\u001b[0mseed\u001b[0m\u001b[1;33m)\u001b[0m\u001b[1;33m\u001b[0m\u001b[1;33m\u001b[0m\u001b[0m\n\u001b[0m\u001b[0;32m    227\u001b[0m         \u001b[1;31m# see comment on the other call to np.iinfo in this file\u001b[0m\u001b[1;33m\u001b[0m\u001b[1;33m\u001b[0m\u001b[0m\n\u001b[0;32m    228\u001b[0m \u001b[1;33m\u001b[0m\u001b[0m\n",
      "\u001b[1;32mC:\\ProgramData\\Anaconda3\\lib\\site-packages\\sklearn\\svm\\_base.py\u001b[0m in \u001b[0;36m_dense_fit\u001b[1;34m(self, X, y, sample_weight, solver_type, kernel, random_seed)\u001b[0m\n\u001b[0;32m    275\u001b[0m         \u001b[0mself\u001b[0m\u001b[1;33m.\u001b[0m\u001b[0msupport_\u001b[0m\u001b[1;33m,\u001b[0m \u001b[0mself\u001b[0m\u001b[1;33m.\u001b[0m\u001b[0msupport_vectors_\u001b[0m\u001b[1;33m,\u001b[0m \u001b[0mself\u001b[0m\u001b[1;33m.\u001b[0m\u001b[0m_n_support\u001b[0m\u001b[1;33m,\u001b[0m\u001b[0;31m \u001b[0m\u001b[0;31m\\\u001b[0m\u001b[1;33m\u001b[0m\u001b[1;33m\u001b[0m\u001b[0m\n\u001b[0;32m    276\u001b[0m             \u001b[0mself\u001b[0m\u001b[1;33m.\u001b[0m\u001b[0mdual_coef_\u001b[0m\u001b[1;33m,\u001b[0m \u001b[0mself\u001b[0m\u001b[1;33m.\u001b[0m\u001b[0mintercept_\u001b[0m\u001b[1;33m,\u001b[0m \u001b[0mself\u001b[0m\u001b[1;33m.\u001b[0m\u001b[0m_probA\u001b[0m\u001b[1;33m,\u001b[0m\u001b[0;31m \u001b[0m\u001b[0;31m\\\u001b[0m\u001b[1;33m\u001b[0m\u001b[1;33m\u001b[0m\u001b[0m\n\u001b[1;32m--> 277\u001b[1;33m             self._probB, self.fit_status_ = libsvm.fit(\n\u001b[0m\u001b[0;32m    278\u001b[0m                 \u001b[0mX\u001b[0m\u001b[1;33m,\u001b[0m \u001b[0my\u001b[0m\u001b[1;33m,\u001b[0m\u001b[1;33m\u001b[0m\u001b[1;33m\u001b[0m\u001b[0m\n\u001b[0;32m    279\u001b[0m                 \u001b[0msvm_type\u001b[0m\u001b[1;33m=\u001b[0m\u001b[0msolver_type\u001b[0m\u001b[1;33m,\u001b[0m \u001b[0msample_weight\u001b[0m\u001b[1;33m=\u001b[0m\u001b[0msample_weight\u001b[0m\u001b[1;33m,\u001b[0m\u001b[1;33m\u001b[0m\u001b[1;33m\u001b[0m\u001b[0m\n",
      "\u001b[1;31mKeyboardInterrupt\u001b[0m: "
     ]
    }
   ],
   "source": [
    "from time import time\n",
    "\n",
    "num = 0\n",
    "best_f1 = [0,0]\n",
    "all_models = {}\n",
    "\n",
    "\n",
    "for gamma in np.arange(0.05, 0.96, 0.05): # gamma    \n",
    "    for nu in np.arange(0.002, 0.004, 0.0001): # NU\n",
    "        start = time()\n",
    "        print(num, \" -- model FIT... -- nu:\", nu, \"| kernel: rbf\", '| gamma:', gamma)\n",
    "        clf_1 = svm.OneClassSVM(nu=nu, kernel=\"rbf\", gamma=gamma)\n",
    "        clf_1.fit(mse_train_rs)\n",
    "        print('FIT DONE')\n",
    "        print('PREDICT...')\n",
    "        y_scores_1 = clf_1.predict(mse_test1_rs)\n",
    "        print('PREDICT DONE')\n",
    "\n",
    "        anomaly1 = change_label(y_scores_1)\n",
    "        print_distrib(anomaly1)\n",
    "\n",
    "        f1 = f1_score(y1[12:], anomaly1)\n",
    "\n",
    "\n",
    "        if f1 > best_f1[1]:\n",
    "            best_f1[0] = num\n",
    "            best_f1[1] = f1\n",
    "            all_models[num] = {'nu':nu, 'kernel':'rbf', 'gamma':gamma}\n",
    "        num+=1\n",
    "\n",
    "        print('-- F1: ', f1, ' -- TIME:', (time() - start))\n",
    "        print('------------------------------------')\n",
    "\n",
    "        "
   ]
  },
  {
   "cell_type": "code",
   "execution_count": 147,
   "id": "cc1235f4",
   "metadata": {},
   "outputs": [
    {
     "name": "stdout",
     "output_type": "stream",
     "text": [
      "0.5883628478496566\n",
      "{'nu': 0.0021, 'kernel': 'rbf', 'gamma': 0.1}\n"
     ]
    }
   ],
   "source": [
    "print(best_f1[1])\n",
    "print(all_models[best_f1[0]])"
   ]
  },
  {
   "cell_type": "markdown",
   "id": "8b77254f",
   "metadata": {},
   "source": [
    "#### Получаем скор на всех аномальных датасетах"
   ]
  },
  {
   "cell_type": "code",
   "execution_count": 162,
   "id": "5d950f1d",
   "metadata": {},
   "outputs": [],
   "source": [
    "datasets = []\n",
    "\n",
    "import os\n",
    "for root, dirs, files in os.walk(\"datasets/GHL\"):  \n",
    "    for filename in files:\n",
    "        datasets.append(str(filename))"
   ]
  },
  {
   "cell_type": "code",
   "execution_count": 165,
   "id": "8c536f7b",
   "metadata": {},
   "outputs": [],
   "source": [
    "datasets = datasets[:-1]"
   ]
  },
  {
   "cell_type": "code",
   "execution_count": 262,
   "id": "acf6d8cc",
   "metadata": {},
   "outputs": [],
   "source": [
    "def get_score(data, model_nn, model_ocsvm, treshold):\n",
    "    path = 'datasets/GHL/' + data\n",
    "    \n",
    "    # подгтовка данных\n",
    "    data_df = pd.read_csv(path)[10000:]\n",
    "    y = data_df['ATTACK']\n",
    "    data_df_ = data_df[all_cols]\n",
    "    data_df_w = preprocessing(data_df_, window_size=12)\n",
    "    \n",
    "    # получаем mse     \n",
    "    pred = model_nn.predict(data_df_w)\n",
    "    mse = np.mean(np.power(flatten_2(data_df_w) - flatten_2(pred), 2), axis=1)\n",
    "    \n",
    "    # Порог\n",
    "    anomaly_treshold = []\n",
    "    for i in mse:\n",
    "        if i > treshold:\n",
    "            anomaly_treshold.append(1.)\n",
    "        else: anomaly_treshold.append(0.)\n",
    "    f1_treshold = f1_score(y[:len(y)-12].values, anomaly_treshold)\n",
    "    \n",
    "    # классифицируем\n",
    "    mse_rs = np.reshape(mse, (mse.shape[0], 1))\n",
    "    y_scores = model_ocsvm.predict(mse_rs)\n",
    "    anomaly = change_label(y_scores)\n",
    "    f1_ocsvm = f1_score(y[:len(y)-12].values, anomaly)\n",
    "    return f1_treshold, f1_ocsvm, mse\n"
   ]
  },
  {
   "cell_type": "code",
   "execution_count": 263,
   "id": "f4eb5ecc",
   "metadata": {},
   "outputs": [],
   "source": [
    "from tqdm import tqdm\n",
    "from time import time"
   ]
  },
  {
   "cell_type": "code",
   "execution_count": 264,
   "id": "980c17fe",
   "metadata": {
    "scrolled": true
   },
   "outputs": [
    {
     "name": "stderr",
     "output_type": "stream",
     "text": [
      "\r",
      "  0%|                                                                                           | 0/48 [00:00<?, ?it/s]"
     ]
    },
    {
     "name": "stdout",
     "output_type": "stream",
     "text": [
      "6080/6080 [==============================] - 121s 20ms/step\n"
     ]
    },
    {
     "name": "stderr",
     "output_type": "stream",
     "text": [
      "\r",
      "  2%|█▋                                                                              | 1/48 [02:16<1:46:47, 136.33s/it]"
     ]
    },
    {
     "name": "stdout",
     "output_type": "stream",
     "text": [
      "1 DATA | F1_treshold -- 0.0753 | F1_ocsvm -- 0.0812\n",
      "136.3332917690277\n",
      "--------------\n",
      "6079/6079 [==============================] - 115s 19ms/step\n"
     ]
    },
    {
     "name": "stderr",
     "output_type": "stream",
     "text": [
      "\r",
      "  4%|███▎                                                                            | 2/48 [04:29<1:43:00, 134.35s/it]"
     ]
    },
    {
     "name": "stdout",
     "output_type": "stream",
     "text": [
      "2 DATA | F1_treshold -- 0.132 | F1_ocsvm -- 0.1174\n",
      "132.96730613708496\n",
      "--------------\n",
      "6080/6080 [==============================] - 118s 19ms/step\n"
     ]
    },
    {
     "name": "stderr",
     "output_type": "stream",
     "text": [
      "\r",
      "  6%|█████                                                                           | 3/48 [06:43<1:40:40, 134.23s/it]"
     ]
    },
    {
     "name": "stdout",
     "output_type": "stream",
     "text": [
      "3 DATA | F1_treshold -- 0.1395 | F1_ocsvm -- 0.1387\n",
      "134.07672023773193\n",
      "--------------\n",
      "6078/6078 [==============================] - 116s 19ms/step\n"
     ]
    },
    {
     "name": "stderr",
     "output_type": "stream",
     "text": [
      "\r",
      "  8%|██████▋                                                                         | 4/48 [08:55<1:37:53, 133.49s/it]"
     ]
    },
    {
     "name": "stdout",
     "output_type": "stream",
     "text": [
      "4 DATA | F1_treshold -- 0.1315 | F1_ocsvm -- 0.1219\n",
      "132.36396479606628\n",
      "--------------\n",
      "6079/6079 [==============================] - 115s 19ms/step\n"
     ]
    },
    {
     "name": "stderr",
     "output_type": "stream",
     "text": [
      "\r",
      " 10%|████████▎                                                                       | 5/48 [11:07<1:35:07, 132.74s/it]"
     ]
    },
    {
     "name": "stdout",
     "output_type": "stream",
     "text": [
      "5 DATA | F1_treshold -- 0.1294 | F1_ocsvm -- 0.0848\n",
      "131.40496182441711\n",
      "--------------\n",
      "6083/6083 [==============================] - 120s 20ms/step\n"
     ]
    },
    {
     "name": "stderr",
     "output_type": "stream",
     "text": [
      "\r",
      " 12%|██████████                                                                      | 6/48 [13:22<1:33:37, 133.76s/it]"
     ]
    },
    {
     "name": "stdout",
     "output_type": "stream",
     "text": [
      "6 DATA | F1_treshold -- 0.1227 | F1_ocsvm -- 0.1072\n",
      "135.73985290527344\n",
      "--------------\n",
      "6085/6085 [==============================] - 118s 19ms/step\n"
     ]
    },
    {
     "name": "stderr",
     "output_type": "stream",
     "text": [
      "\r",
      " 15%|███████████▋                                                                    | 7/48 [15:36<1:31:28, 133.86s/it]"
     ]
    },
    {
     "name": "stdout",
     "output_type": "stream",
     "text": [
      "7 DATA | F1_treshold -- 0.0354 | F1_ocsvm -- 0.0708\n",
      "134.07610702514648\n",
      "--------------\n",
      "6080/6080 [==============================] - 117s 19ms/step\n"
     ]
    },
    {
     "name": "stderr",
     "output_type": "stream",
     "text": [
      "\r",
      " 17%|█████████████▎                                                                  | 8/48 [17:50<1:29:10, 133.76s/it]"
     ]
    },
    {
     "name": "stdout",
     "output_type": "stream",
     "text": [
      "8 DATA | F1_treshold -- 0.038 | F1_ocsvm -- 0.0683\n",
      "133.5504331588745\n",
      "--------------\n",
      "6082/6082 [==============================] - 117s 19ms/step\n"
     ]
    },
    {
     "name": "stderr",
     "output_type": "stream",
     "text": [
      "\r",
      " 19%|███████████████                                                                 | 9/48 [20:03<1:26:50, 133.61s/it]"
     ]
    },
    {
     "name": "stdout",
     "output_type": "stream",
     "text": [
      "9 DATA | F1_treshold -- 0.137 | F1_ocsvm -- 0.1202\n",
      "133.25438261032104\n",
      "--------------\n",
      "6070/6070 [==============================] - 116s 19ms/step\n"
     ]
    },
    {
     "name": "stderr",
     "output_type": "stream",
     "text": [
      "\r",
      " 21%|████████████████▍                                                              | 10/48 [22:15<1:24:15, 133.05s/it]"
     ]
    },
    {
     "name": "stdout",
     "output_type": "stream",
     "text": [
      "10 DATA | F1_treshold -- 0.078 | F1_ocsvm -- 0.0606\n",
      "131.81050896644592\n",
      "--------------\n",
      "6084/6084 [==============================] - 117s 19ms/step\n"
     ]
    },
    {
     "name": "stderr",
     "output_type": "stream",
     "text": [
      "\r",
      " 23%|██████████████████                                                             | 11/48 [24:28<1:22:00, 132.98s/it]"
     ]
    },
    {
     "name": "stdout",
     "output_type": "stream",
     "text": [
      "11 DATA | F1_treshold -- 0.051 | F1_ocsvm -- 0.0812\n",
      "132.7997498512268\n",
      "--------------\n",
      "6086/6086 [==============================] - 116s 19ms/step\n"
     ]
    },
    {
     "name": "stderr",
     "output_type": "stream",
     "text": [
      "\r",
      " 25%|███████████████████▊                                                           | 12/48 [26:40<1:19:37, 132.71s/it]"
     ]
    },
    {
     "name": "stdout",
     "output_type": "stream",
     "text": [
      "12 DATA | F1_treshold -- 0.0597 | F1_ocsvm -- 0.077\n",
      "132.09870886802673\n",
      "--------------\n",
      "6090/6090 [==============================] - 115s 19ms/step\n"
     ]
    },
    {
     "name": "stderr",
     "output_type": "stream",
     "text": [
      "\r",
      " 27%|█████████████████████▍                                                         | 13/48 [28:51<1:17:07, 132.21s/it]"
     ]
    },
    {
     "name": "stdout",
     "output_type": "stream",
     "text": [
      "13 DATA | F1_treshold -- 0.1092 | F1_ocsvm -- 0.1417\n",
      "131.06711745262146\n",
      "--------------\n",
      "6087/6087 [==============================] - 117s 19ms/step\n"
     ]
    },
    {
     "name": "stderr",
     "output_type": "stream",
     "text": [
      "\r",
      " 29%|███████████████████████                                                        | 14/48 [31:06<1:15:18, 132.91s/it]"
     ]
    },
    {
     "name": "stdout",
     "output_type": "stream",
     "text": [
      "14 DATA | F1_treshold -- 0.145 | F1_ocsvm -- 0.1582\n",
      "134.5209677219391\n",
      "--------------\n",
      "6087/6087 [==============================] - 117s 19ms/step\n"
     ]
    },
    {
     "name": "stderr",
     "output_type": "stream",
     "text": [
      "\r",
      " 31%|████████████████████████▋                                                      | 15/48 [33:19<1:13:10, 133.06s/it]"
     ]
    },
    {
     "name": "stdout",
     "output_type": "stream",
     "text": [
      "15 DATA | F1_treshold -- 0.0342 | F1_ocsvm -- 0.0647\n",
      "133.4025046825409\n",
      "--------------\n",
      "6077/6077 [==============================] - 120s 20ms/step\n"
     ]
    },
    {
     "name": "stderr",
     "output_type": "stream",
     "text": [
      "\r",
      " 33%|██████████████████████████▎                                                    | 16/48 [35:35<1:11:25, 133.93s/it]"
     ]
    },
    {
     "name": "stdout",
     "output_type": "stream",
     "text": [
      "16 DATA | F1_treshold -- 0.0948 | F1_ocsvm -- 0.1049\n",
      "135.94535565376282\n",
      "--------------\n",
      "6084/6084 [==============================] - 116s 19ms/step\n"
     ]
    },
    {
     "name": "stderr",
     "output_type": "stream",
     "text": [
      "\r",
      " 35%|███████████████████████████▉                                                   | 17/48 [38:11<1:12:37, 140.56s/it]"
     ]
    },
    {
     "name": "stdout",
     "output_type": "stream",
     "text": [
      "17 DATA | F1_treshold -- 0.1261 | F1_ocsvm -- 0.1321\n",
      "155.9813950061798\n",
      "--------------\n",
      "6081/6081 [==============================] - 117s 19ms/step\n"
     ]
    },
    {
     "name": "stderr",
     "output_type": "stream",
     "text": [
      "\r",
      " 38%|█████████████████████████████▋                                                 | 18/48 [40:24<1:09:07, 138.25s/it]"
     ]
    },
    {
     "name": "stdout",
     "output_type": "stream",
     "text": [
      "18 DATA | F1_treshold -- 0.1366 | F1_ocsvm -- 0.1327\n",
      "132.88448977470398\n",
      "--------------\n",
      "6089/6089 [==============================] - 116s 19ms/step\n"
     ]
    },
    {
     "name": "stderr",
     "output_type": "stream",
     "text": [
      "\r",
      " 40%|███████████████████████████████▎                                               | 19/48 [42:36<1:05:54, 136.36s/it]"
     ]
    },
    {
     "name": "stdout",
     "output_type": "stream",
     "text": [
      "19 DATA | F1_treshold -- 0.0796 | F1_ocsvm -- 0.1113\n",
      "131.94606947898865\n",
      "--------------\n",
      "6080/6080 [==============================] - 115s 19ms/step\n"
     ]
    },
    {
     "name": "stderr",
     "output_type": "stream",
     "text": [
      "\r",
      " 42%|████████████████████████████████▉                                              | 20/48 [44:47<1:02:57, 134.89s/it]"
     ]
    },
    {
     "name": "stdout",
     "output_type": "stream",
     "text": [
      "20 DATA | F1_treshold -- 0.1469 | F1_ocsvm -- 0.1498\n",
      "131.4730863571167\n",
      "--------------\n",
      "6090/6090 [==============================] - 115s 19ms/step\n"
     ]
    },
    {
     "name": "stderr",
     "output_type": "stream",
     "text": [
      "\r",
      " 44%|██████████████████████████████████▌                                            | 21/48 [46:58<1:00:10, 133.73s/it]"
     ]
    },
    {
     "name": "stdout",
     "output_type": "stream",
     "text": [
      "21 DATA | F1_treshold -- 0.0278 | F1_ocsvm -- 0.0671\n",
      "131.01788425445557\n",
      "--------------\n",
      "6082/6082 [==============================] - 116s 19ms/step\n"
     ]
    },
    {
     "name": "stderr",
     "output_type": "stream",
     "text": [
      "\r",
      " 46%|█████████████████████████████████████▏                                           | 22/48 [49:10<57:39, 133.04s/it]"
     ]
    },
    {
     "name": "stdout",
     "output_type": "stream",
     "text": [
      "22 DATA | F1_treshold -- 0.1105 | F1_ocsvm -- 0.1243\n",
      "131.43225049972534\n",
      "--------------\n",
      "6090/6090 [==============================] - 116s 19ms/step\n"
     ]
    },
    {
     "name": "stderr",
     "output_type": "stream",
     "text": [
      "\r",
      " 48%|██████████████████████████████████████▊                                          | 23/48 [51:21<55:14, 132.58s/it]"
     ]
    },
    {
     "name": "stdout",
     "output_type": "stream",
     "text": [
      "23 DATA | F1_treshold -- 0.1932 | F1_ocsvm -- 0.2032\n",
      "131.48948884010315\n",
      "--------------\n",
      "6088/6088 [==============================] - 115s 19ms/step\n"
     ]
    },
    {
     "name": "stderr",
     "output_type": "stream",
     "text": [
      "\r",
      " 50%|████████████████████████████████████████▌                                        | 24/48 [53:32<52:51, 132.14s/it]"
     ]
    },
    {
     "name": "stdout",
     "output_type": "stream",
     "text": [
      "24 DATA | F1_treshold -- 0.0562 | F1_ocsvm -- 0.0915\n",
      "131.1047170162201\n",
      "--------------\n",
      "6081/6081 [==============================] - 115s 19ms/step\n"
     ]
    },
    {
     "name": "stderr",
     "output_type": "stream",
     "text": [
      "\r",
      " 52%|██████████████████████████████████████████▏                                      | 25/48 [55:43<50:32, 131.84s/it]"
     ]
    },
    {
     "name": "stdout",
     "output_type": "stream",
     "text": [
      "25 DATA | F1_treshold -- 0.7612 | F1_ocsvm -- 0.6672\n",
      "131.14768862724304\n",
      "--------------\n",
      "6082/6082 [==============================] - 115s 19ms/step\n"
     ]
    },
    {
     "name": "stderr",
     "output_type": "stream",
     "text": [
      "\r",
      " 54%|███████████████████████████████████████████▉                                     | 26/48 [57:55<48:16, 131.65s/it]"
     ]
    },
    {
     "name": "stdout",
     "output_type": "stream",
     "text": [
      "26 DATA | F1_treshold -- 0.4858 | F1_ocsvm -- 0.466\n",
      "131.2217240333557\n",
      "--------------\n",
      "6079/6079 [==============================] - 115s 19ms/step\n"
     ]
    },
    {
     "name": "stderr",
     "output_type": "stream",
     "text": [
      "\r",
      " 56%|████████████████████████████████████████████▍                                  | 27/48 [1:00:05<45:56, 131.25s/it]"
     ]
    },
    {
     "name": "stdout",
     "output_type": "stream",
     "text": [
      "27 DATA | F1_treshold -- 0.5695 | F1_ocsvm -- 0.5509\n",
      "130.29793190956116\n",
      "--------------\n",
      "6080/6080 [==============================] - 116s 19ms/step\n"
     ]
    },
    {
     "name": "stderr",
     "output_type": "stream",
     "text": [
      "\r",
      " 58%|██████████████████████████████████████████████                                 | 28/48 [1:02:16<43:43, 131.18s/it]"
     ]
    },
    {
     "name": "stdout",
     "output_type": "stream",
     "text": [
      "28 DATA | F1_treshold -- 0.564 | F1_ocsvm -- 0.5313\n",
      "131.01562881469727\n",
      "--------------\n",
      "6081/6081 [==============================] - 112s 18ms/step\n"
     ]
    },
    {
     "name": "stderr",
     "output_type": "stream",
     "text": [
      "\r",
      " 60%|███████████████████████████████████████████████▋                               | 29/48 [1:04:22<41:05, 129.76s/it]"
     ]
    },
    {
     "name": "stdout",
     "output_type": "stream",
     "text": [
      "29 DATA | F1_treshold -- 0.7196 | F1_ocsvm -- 0.6053\n",
      "126.44119215011597\n",
      "--------------\n",
      "6085/6085 [==============================] - 113s 19ms/step\n"
     ]
    },
    {
     "name": "stderr",
     "output_type": "stream",
     "text": [
      "\r",
      " 62%|█████████████████████████████████████████████████▍                             | 30/48 [1:06:31<38:48, 129.34s/it]"
     ]
    },
    {
     "name": "stdout",
     "output_type": "stream",
     "text": [
      "30 DATA | F1_treshold -- 0.6645 | F1_ocsvm -- 0.635\n",
      "128.37021827697754\n",
      "--------------\n",
      "6080/6080 [==============================] - 116s 19ms/step\n"
     ]
    },
    {
     "name": "stderr",
     "output_type": "stream",
     "text": [
      "\r",
      " 65%|███████████████████████████████████████████████████                            | 31/48 [1:08:41<36:45, 129.73s/it]"
     ]
    },
    {
     "name": "stdout",
     "output_type": "stream",
     "text": [
      "31 DATA | F1_treshold -- 0.5254 | F1_ocsvm -- 0.4986\n",
      "130.63212966918945\n",
      "--------------\n",
      "6076/6076 [==============================] - 112s 18ms/step\n"
     ]
    },
    {
     "name": "stderr",
     "output_type": "stream",
     "text": [
      "\r",
      " 67%|████████████████████████████████████████████████████▋                          | 32/48 [1:10:48<34:20, 128.81s/it]"
     ]
    },
    {
     "name": "stdout",
     "output_type": "stream",
     "text": [
      "32 DATA | F1_treshold -- 0.7204 | F1_ocsvm -- 0.6112\n",
      "126.65876722335815\n",
      "--------------\n",
      "6082/6082 [==============================] - 112s 18ms/step\n"
     ]
    },
    {
     "name": "stderr",
     "output_type": "stream",
     "text": [
      "\r",
      " 69%|██████████████████████████████████████████████████████▎                        | 33/48 [1:12:54<32:01, 128.08s/it]"
     ]
    },
    {
     "name": "stdout",
     "output_type": "stream",
     "text": [
      "33 DATA | F1_treshold -- 0.6837 | F1_ocsvm -- 0.6423\n",
      "126.37978553771973\n",
      "--------------\n",
      "6082/6082 [==============================] - 112s 18ms/step\n"
     ]
    },
    {
     "name": "stderr",
     "output_type": "stream",
     "text": [
      "\r",
      " 71%|███████████████████████████████████████████████████████▉                       | 34/48 [1:15:00<29:44, 127.45s/it]"
     ]
    },
    {
     "name": "stdout",
     "output_type": "stream",
     "text": [
      "34 DATA | F1_treshold -- 0.6758 | F1_ocsvm -- 0.6465\n",
      "125.98735690116882\n",
      "--------------\n",
      "6080/6080 [==============================] - 112s 18ms/step\n"
     ]
    },
    {
     "name": "stderr",
     "output_type": "stream",
     "text": [
      "\r",
      " 73%|█████████████████████████████████████████████████████████▌                     | 35/48 [1:17:08<27:36, 127.40s/it]"
     ]
    },
    {
     "name": "stdout",
     "output_type": "stream",
     "text": [
      "35 DATA | F1_treshold -- 0.6697 | F1_ocsvm -- 0.6337\n",
      "127.28764343261719\n",
      "--------------\n",
      "6081/6081 [==============================] - 111s 18ms/step\n"
     ]
    },
    {
     "name": "stderr",
     "output_type": "stream",
     "text": [
      "\r",
      " 75%|███████████████████████████████████████████████████████████▎                   | 36/48 [1:19:14<25:23, 126.97s/it]"
     ]
    },
    {
     "name": "stdout",
     "output_type": "stream",
     "text": [
      "36 DATA | F1_treshold -- 0.75 | F1_ocsvm -- 0.7228\n",
      "125.9453330039978\n",
      "--------------\n",
      "6081/6081 [==============================] - 111s 18ms/step\n"
     ]
    },
    {
     "name": "stderr",
     "output_type": "stream",
     "text": [
      "\r",
      " 77%|████████████████████████████████████████████████████████████▉                  | 37/48 [1:21:20<23:12, 126.63s/it]"
     ]
    },
    {
     "name": "stdout",
     "output_type": "stream",
     "text": [
      "37 DATA | F1_treshold -- 0.5272 | F1_ocsvm -- 0.5047\n",
      "125.84444785118103\n",
      "--------------\n",
      "6075/6075 [==============================] - 112s 18ms/step\n"
     ]
    },
    {
     "name": "stderr",
     "output_type": "stream",
     "text": [
      "\r",
      " 79%|██████████████████████████████████████████████████████████████▌                | 38/48 [1:23:26<21:05, 126.58s/it]"
     ]
    },
    {
     "name": "stdout",
     "output_type": "stream",
     "text": [
      "38 DATA | F1_treshold -- 0.819 | F1_ocsvm -- 0.7189\n",
      "126.44471263885498\n",
      "--------------\n",
      "6079/6079 [==============================] - 111s 18ms/step\n"
     ]
    },
    {
     "name": "stderr",
     "output_type": "stream",
     "text": [
      "\r",
      " 81%|████████████████████████████████████████████████████████████████▏              | 39/48 [1:25:32<18:57, 126.36s/it]"
     ]
    },
    {
     "name": "stdout",
     "output_type": "stream",
     "text": [
      "39 DATA | F1_treshold -- 0.5824 | F1_ocsvm -- 0.5292\n",
      "125.86992239952087\n",
      "--------------\n",
      "6080/6080 [==============================] - 111s 18ms/step\n"
     ]
    },
    {
     "name": "stderr",
     "output_type": "stream",
     "text": [
      "\r",
      " 83%|█████████████████████████████████████████████████████████████████▊             | 40/48 [1:27:38<16:49, 126.22s/it]"
     ]
    },
    {
     "name": "stdout",
     "output_type": "stream",
     "text": [
      "40 DATA | F1_treshold -- 0.6336 | F1_ocsvm -- 0.597\n",
      "125.87245607376099\n",
      "--------------\n",
      "6089/6089 [==============================] - 111s 18ms/step\n"
     ]
    },
    {
     "name": "stderr",
     "output_type": "stream",
     "text": [
      "\r",
      " 85%|███████████████████████████████████████████████████████████████████▍           | 41/48 [1:29:44<14:43, 126.18s/it]"
     ]
    },
    {
     "name": "stdout",
     "output_type": "stream",
     "text": [
      "41 DATA | F1_treshold -- 0.66 | F1_ocsvm -- 0.5911\n",
      "126.08808708190918\n",
      "--------------\n",
      "6076/6076 [==============================] - 111s 18ms/step\n"
     ]
    },
    {
     "name": "stderr",
     "output_type": "stream",
     "text": [
      "\r",
      " 88%|█████████████████████████████████████████████████████████████████████▏         | 42/48 [1:31:50<12:36, 126.08s/it]"
     ]
    },
    {
     "name": "stdout",
     "output_type": "stream",
     "text": [
      "42 DATA | F1_treshold -- 0.7724 | F1_ocsvm -- 0.6346\n",
      "125.84794878959656\n",
      "--------------\n",
      "6080/6080 [==============================] - 112s 18ms/step\n"
     ]
    },
    {
     "name": "stderr",
     "output_type": "stream",
     "text": [
      "\r",
      " 90%|██████████████████████████████████████████████████████████████████████▊        | 43/48 [1:33:56<10:30, 126.12s/it]"
     ]
    },
    {
     "name": "stdout",
     "output_type": "stream",
     "text": [
      "43 DATA | F1_treshold -- 0.8168 | F1_ocsvm -- 0.7514\n",
      "126.22680592536926\n",
      "--------------\n",
      "6081/6081 [==============================] - 111s 18ms/step\n"
     ]
    },
    {
     "name": "stderr",
     "output_type": "stream",
     "text": [
      "\r",
      " 92%|████████████████████████████████████████████████████████████████████████▍      | 44/48 [1:36:02<08:24, 126.04s/it]"
     ]
    },
    {
     "name": "stdout",
     "output_type": "stream",
     "text": [
      "44 DATA | F1_treshold -- 0.6082 | F1_ocsvm -- 0.5644\n",
      "125.85702180862427\n",
      "--------------\n",
      "6082/6082 [==============================] - 112s 18ms/step\n"
     ]
    },
    {
     "name": "stderr",
     "output_type": "stream",
     "text": [
      "\r",
      " 94%|██████████████████████████████████████████████████████████████████████████     | 45/48 [1:38:08<06:18, 126.13s/it]"
     ]
    },
    {
     "name": "stdout",
     "output_type": "stream",
     "text": [
      "45 DATA | F1_treshold -- 0.632 | F1_ocsvm -- 0.5736\n",
      "126.33002829551697\n",
      "--------------\n",
      "6085/6085 [==============================] - 112s 18ms/step\n"
     ]
    },
    {
     "name": "stderr",
     "output_type": "stream",
     "text": [
      "\r",
      " 96%|███████████████████████████████████████████████████████████████████████████▋   | 46/48 [1:40:14<04:12, 126.20s/it]"
     ]
    },
    {
     "name": "stdout",
     "output_type": "stream",
     "text": [
      "46 DATA | F1_treshold -- 0.6281 | F1_ocsvm -- 0.6106\n",
      "126.37124419212341\n",
      "--------------\n",
      "6077/6077 [==============================] - 111s 18ms/step\n"
     ]
    },
    {
     "name": "stderr",
     "output_type": "stream",
     "text": [
      "\r",
      " 98%|█████████████████████████████████████████████████████████████████████████████▎ | 47/48 [1:42:20<02:06, 126.04s/it]"
     ]
    },
    {
     "name": "stdout",
     "output_type": "stream",
     "text": [
      "47 DATA | F1_treshold -- 0.6216 | F1_ocsvm -- 0.57\n",
      "125.657297372818\n",
      "--------------\n",
      "6082/6082 [==============================] - 112s 18ms/step\n"
     ]
    },
    {
     "name": "stderr",
     "output_type": "stream",
     "text": [
      "100%|███████████████████████████████████████████████████████████████████████████████| 48/48 [1:44:27<00:00, 130.57s/it]"
     ]
    },
    {
     "name": "stdout",
     "output_type": "stream",
     "text": [
      "48 DATA | F1_treshold -- 0.742 | F1_ocsvm -- 0.6935\n",
      "126.64878034591675\n",
      "--------------\n"
     ]
    },
    {
     "name": "stderr",
     "output_type": "stream",
     "text": [
      "\n"
     ]
    }
   ],
   "source": [
    "treshold = max(mse_train)\n",
    "\n",
    "all_scores = {}\n",
    "all_treshold_scores = {}\n",
    "all_mse = {}\n",
    "\n",
    "for i in tqdm(range(len(datasets))):\n",
    "    start = time()\n",
    "    f1_treshold, f1_ocsvm, mse = get_score(datasets[i], model, clf_1, treshold)\n",
    "    \n",
    "    all_treshold_scores[i+1] = f1_treshold\n",
    "    all_scores[i+1] = f1_ocsvm\n",
    "    all_mse[i+1] = mse\n",
    "    \n",
    "    print(i+1, 'DATA | F1_treshold --', round(f1_treshold, 4), '| F1_ocsvm --', round(f1_ocsvm, 4))\n",
    "    print(time()-start)\n",
    "    print('--------------')\n",
    "    "
   ]
  },
  {
   "cell_type": "markdown",
   "id": "681b2dd8",
   "metadata": {},
   "source": [
    "#### Визуализация скора на всех датасетах"
   ]
  },
  {
   "cell_type": "code",
   "execution_count": 286,
   "id": "b645274f",
   "metadata": {},
   "outputs": [
    {
     "data": {
      "image/png": "[encoded data removed]",
      "text/plain": [
       "<Figure size 864x504 with 1 Axes>"
      ]
     },
     "metadata": {
      "needs_background": "light"
     },
     "output_type": "display_data"
    }
   ],
   "source": [
    "plt.figure(figsize=(12, 7))\n",
    "plt.scatter(all_treshold_scores.keys(), all_treshold_scores.values(), color=\"g\", label='Treshold_labels')\n",
    "plt.scatter(all_scores.keys(), all_scores.values(), color=\"r\", label='OCSVM_labels')\n",
    "plt.axvline(24.5)\n",
    "plt.title('F1_scores всех датасетов')\n",
    "plt.xlabel('Номер датасета')\n",
    "plt.ylabel('Скор')\n",
    "plt.legend(loc='upper left')\n",
    "plt.grid()\n",
    "plt.grid(which='minor')"
   ]
  },
  {
   "cell_type": "code",
   "execution_count": 288,
   "id": "1d927dde",
   "metadata": {},
   "outputs": [
    {
     "data": {
      "image/png": "[encoded data removed]",
      "text/plain": [
       "<Figure size 864x504 with 1 Axes>"
      ]
     },
     "metadata": {
      "needs_background": "light"
     },
     "output_type": "display_data"
    }
   ],
   "source": [
    "plt.figure(figsize=(12, 7))\n",
    "plt.plot(all_treshold_scores.values(), color=\"g\", label='Treshold_labels')\n",
    "plt.plot(all_scores.values(), color=\"r\", label='OCSVM_labels')\n",
    "plt.axvline(23.5)\n",
    "plt.title('F1_scores всех датасетов')\n",
    "plt.xlabel('Номер датасета')\n",
    "plt.ylabel('Скор')\n",
    "plt.legend(loc='upper left')\n",
    "plt.grid()\n",
    "plt.grid(which='minor')"
   ]
  },
  {
   "cell_type": "markdown",
   "id": "f652db83",
   "metadata": {},
   "source": [
    "#### Визулизация реальных и предсказанных аномалий на рандомном датасете"
   ]
  },
  {
   "cell_type": "code",
   "execution_count": 214,
   "id": "af211db1",
   "metadata": {},
   "outputs": [
    {
     "name": "stdout",
     "output_type": "stream",
     "text": [
      "6082/6082 [==============================] - 114s 19ms/step\n",
      "0.6845204711160964\n"
     ]
    }
   ],
   "source": [
    "path = 'datasets/GHL/' + datasets[47]\n",
    "# подгтовка данных\n",
    "data_df = pd.read_csv(path)[10000:]\n",
    "y = data_df['ATTACK']\n",
    "data_df_ = data_df[all_cols]\n",
    "data_df_w = preprocessing(data_df_, window_size=12)\n",
    "# получаем mse     \n",
    "pred = model.predict(data_df_w)\n",
    "mse = np.mean(np.power(flatten_2(data_df_w) - flatten_2(pred), 2), axis=1)\n",
    "# классифицируем\n",
    "mse_rs = np.reshape(mse, (mse.shape[0], 1))\n",
    "y_scores = clf_1.predict(mse_rs)\n",
    "anomaly = change_label(y_scores)\n",
    "f1 = f1_score(y[12:], anomaly)\n",
    "print(f1)"
   ]
  },
  {
   "cell_type": "code",
   "execution_count": 235,
   "id": "7b086bc3",
   "metadata": {},
   "outputs": [],
   "source": [
    "treshold = max(mse_train)\n",
    "\n",
    "anom1 = []\n",
    "\n",
    "for i in mse:\n",
    "    if i > treshold:\n",
    "        anom1.append(1.)\n",
    "    else: anom1.append(0.)"
   ]
  },
  {
   "cell_type": "code",
   "execution_count": 239,
   "id": "02d24b98",
   "metadata": {},
   "outputs": [
    {
     "name": "stdout",
     "output_type": "stream",
     "text": [
      "0.7420253948590895\n"
     ]
    }
   ],
   "source": [
    "print(f1_score(y[:len(y)-12], anom1))"
   ]
  },
  {
   "cell_type": "code",
   "execution_count": 293,
   "id": "50daf1c9",
   "metadata": {
    "scrolled": false
   },
   "outputs": [
    {
     "data": {
      "text/plain": [
       "Text(0.5, 1.0, 'TRESHOLD')"
      ]
     },
     "execution_count": 293,
     "metadata": {},
     "output_type": "execute_result"
    },
    {
     "data": {
      "image/png": "[encoded data removed]",
      "text/plain": [
       "<Figure size 864x504 with 1 Axes>"
      ]
     },
     "metadata": {
      "needs_background": "light"
     },
     "output_type": "display_data"
    }
   ],
   "source": [
    "plt.figure(figsize=(12,7))\n",
    "plt.plot(anom1, color='r', label='Pred_anomaly')\n",
    "plt.plot(y[:len(y)-12].values, label='True_anomaly')\n",
    "plt.legend(loc='upper left')\n",
    "plt.title('TRESHOLD')\n",
    "# plt.grid()"
   ]
  },
  {
   "cell_type": "code",
   "execution_count": 294,
   "id": "13acca74",
   "metadata": {},
   "outputs": [
    {
     "data": {
      "text/plain": [
       "Text(0.5, 1.0, 'OCSVM')"
      ]
     },
     "execution_count": 294,
     "metadata": {},
     "output_type": "execute_result"
    },
    {
     "data": {
      "image/png": "[encoded data removed]",
      "text/plain": [
       "<Figure size 864x504 with 1 Axes>"
      ]
     },
     "metadata": {
      "needs_background": "light"
     },
     "output_type": "display_data"
    }
   ],
   "source": [
    "plt.figure(figsize=(12,7))\n",
    "plt.plot(anomaly, color='r', label='Pred_anomaly')\n",
    "plt.plot(y[:len(y)-12].values, label='True_anomaly')\n",
    "plt.legend(loc='upper left')\n",
    "plt.title('OCSVM')\n"
   ]
  },
  {
   "cell_type": "code",
   "execution_count": 216,
   "id": "c1a6d31d",
   "metadata": {},
   "outputs": [],
   "source": [
    "from sklearn.metrics import roc_auc_score, roc_curve, plot_roc_curve, auc"
   ]
  },
  {
   "cell_type": "code",
   "execution_count": 222,
   "id": "b174bfac",
   "metadata": {},
   "outputs": [],
   "source": [
    "# desicion_func = clf_1.decision_function(mse_rs)"
   ]
  },
  {
   "cell_type": "code",
   "execution_count": 260,
   "id": "1a820123",
   "metadata": {},
   "outputs": [],
   "source": [
    "fpr,tpr,thresholds = roc_curve(y[12:], anom1)"
   ]
  },
  {
   "cell_type": "code",
   "execution_count": 261,
   "id": "7e7a3aaf",
   "metadata": {
    "scrolled": true
   },
   "outputs": [
    {
     "data": {
      "image/png": "[encoded data removed]",
      "text/plain": [
       "<Figure size 504x360 with 1 Axes>"
      ]
     },
     "metadata": {
      "needs_background": "light"
     },
     "output_type": "display_data"
    }
   ],
   "source": [
    "roc_auc = auc(fpr,tpr)\n",
    "\n",
    "plt.figure(figsize=(7,5))\n",
    "plt.plot(fpr, tpr, label='ROC curve (area = %0.5f)' % roc_auc)\n",
    "plt.plot([0, 1], [0, 1], 'k--')\n",
    "plt.xlim([0.0, 1.0])\n",
    "plt.ylim([0.0, 1.05])\n",
    "plt.xlabel('False Positive Rate')\n",
    "plt.ylabel('True Positive Rate')\n",
    "plt.title('ROC-AUC, метод LSTM-AE OCSVM')\n",
    "plt.legend(loc=\"lower right\")\n",
    "plt.grid()\n",
    "plt.show()"
   ]
  }
 ],
 "metadata": {
  "kernelspec": {
   "display_name": "Python 3 (ipykernel)",
   "language": "python",
   "name": "python3"
  },
  "language_info": {
   "codemirror_mode": {
    "name": "ipython",
    "version": 3
   },
   "file_extension": ".py",
   "mimetype": "text/x-python",
   "name": "python",
   "nbconvert_exporter": "python",
   "pygments_lexer": "ipython3",
   "version": "3.9.7"
  }
 },
 "nbformat": 4,
 "nbformat_minor": 5
}
