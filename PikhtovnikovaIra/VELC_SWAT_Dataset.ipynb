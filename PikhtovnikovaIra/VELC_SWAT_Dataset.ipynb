{
  "nbformat": 4,
  "nbformat_minor": 0,
  "metadata": {
    "colab": {
      "provenance": []
    },
    "kernelspec": {
      "name": "python3",
      "display_name": "Python 3"
    },
    "language_info": {
      "name": "python"
    }
  },
  "cells": [
    {
      "cell_type": "markdown",
      "source": [
        "# Реализация: импорт библиотек и константы"
      ],
      "metadata": {
        "id": "heAqAmdjj0Jo"
      }
    },
    {
      "cell_type": "code",
      "source": [
        "import numpy as np\n",
        "np.random.seed(0)\n",
        "import pandas as pd\n",
        "from sklearn.preprocessing import MinMaxScaler\n",
        "import os\n",
        "os.environ[\"CUDA_VISIBLE_DEVICES\"] = \"-1\"\n",
        "import tensorflow as tf\n",
        "tf.random.set_seed(0)\n",
        "from tensorflow import keras, data\n",
        "import tensorflow_probability as tfp\n",
        "from keras import layers, regularizers, activations\n",
        "from keras.layers import Bidirectional\n",
        "from keras import backend as K\n",
        "import seaborn as sns\n",
        "import matplotlib.pyplot as plt"
      ],
      "metadata": {
        "id": "Uwr_vkzJj3OY"
      },
      "execution_count": 12,
      "outputs": []
    },
    {
      "cell_type": "code",
      "source": [
        "row_mark = 100000\n",
        "batch_size = 1\n",
        "time_step = 1\n",
        "lstm_h_dim = 51\n",
        "z_dim = 51\n",
        "epoch_num = 16\n",
        "threshold = 10\n",
        "alpha = 0.7\n",
        "beta = 0.3\n",
        "\n",
        "# extension parameters\n",
        "N_constraintNet = 10\n",
        "w_thres = 0.01\n",
        "learning_rate = 1e-10"
      ],
      "metadata": {
        "id": "11fgu57Ej_6E"
      },
      "execution_count": 13,
      "outputs": []
    },
    {
      "cell_type": "markdown",
      "source": [
        "# Реализация: Encoder и Decoder"
      ],
      "metadata": {
        "id": "jNaaJce3-5lI"
      }
    },
    {
      "cell_type": "markdown",
      "source": [
        "**Encoder**"
      ],
      "metadata": {
        "id": "PkJycrrQk1th"
      }
    },
    {
      "cell_type": "code",
      "source": [
        "class Encoder(layers.Layer):\n",
        "    def __init__(self, time_step, x_dim, lstm_h_dim, z_dim, name='encoder', **kwargs):\n",
        "        super(Encoder, self).__init__(name=name, **kwargs)\n",
        "\n",
        "        self.encoder_inputs = keras.Input(shape=(time_step, x_dim))\n",
        "        self.encoder_lstm = Bidirectional(layers.LSTM(lstm_h_dim, activation='sigmoid', name='encoder_lstm', stateful=True))\n",
        "        self.z_mean = layers.Dense(z_dim, name='z_mean')\n",
        "        self.z_logvar = layers.Dense(z_dim, name='z_log_var')\n",
        "        self.z_sample = Sampling()\n",
        "\n",
        "    def call(self, inputs,**kwargs):\n",
        "        self.encoder_inputs = inputs\n",
        "        hidden = self.encoder_lstm(self.encoder_inputs)\n",
        "        mu_z = self.z_mean(hidden)\n",
        "        logvar_z = self.z_logvar(hidden)\n",
        "        z = self.z_sample((mu_z, logvar_z))\n",
        "        return mu_z, logvar_z, z\n",
        "\n",
        "    def get_config(self):\n",
        "        config = super(Encoder, self).get_config()\n",
        "        config.update({\n",
        "            'name': self.name,\n",
        "            'z_sample': self.z_sample.get_config()\n",
        "        })\n",
        "        return config"
      ],
      "metadata": {
        "id": "gbCGvLNTkDQM"
      },
      "execution_count": 14,
      "outputs": []
    },
    {
      "cell_type": "markdown",
      "source": [
        "**Decoder**"
      ],
      "metadata": {
        "id": "BxzpCh56k_Iq"
      }
    },
    {
      "cell_type": "code",
      "source": [
        "class Decoder(layers.Layer):\n",
        "    def __init__(self, time_step, x_dim, lstm_h_dim, z_dim, name='decoder', **kwargs):\n",
        "        super(Decoder, self).__init__(name=name, **kwargs)\n",
        "\n",
        "        self.z_inputs = layers.RepeatVector(time_step, name='repeat_vector')\n",
        "        self.decoder_lstm_hidden = Bidirectional(layers.LSTM(lstm_h_dim, activation='sigmoid', return_sequences=True,\n",
        "                                               name='decoder_lstm'))\n",
        "        self.x_mean = layers.Dense(x_dim, name='x_mean')\n",
        "        self.x_logvar = layers.Dense(x_dim, name='x_log_var')\n",
        "        self.x_sample = Sampling()\n",
        "        self.x_sigma = layers.Dense(x_dim, name='x_sigma', activation='tanh')\n",
        "\n",
        "    def call(self, inputs,**kwargs):\n",
        "        z = self.z_inputs(inputs)\n",
        "        hidden = self.decoder_lstm_hidden(z)\n",
        "        mu_x = self.x_mean(hidden)\n",
        "        logvar_x = self.x_logvar(hidden)\n",
        "        sigma_x = self.x_sigma(hidden)\n",
        "        x_dash = self.x_sample((mu_x, logvar_x))\n",
        "        return mu_x, sigma_x,x_dash\n",
        "\n",
        "    def get_config(self):\n",
        "        config = super(Decoder, self).get_config()\n",
        "        config.update({\n",
        "            'name': self.name\n",
        "        })\n",
        "        return config"
      ],
      "metadata": {
        "id": "9oz8K4vfkSs_"
      },
      "execution_count": 15,
      "outputs": []
    },
    {
      "cell_type": "markdown",
      "source": [
        "# Реализация: ConstraintNet"
      ],
      "metadata": {
        "id": "A5dY6oHL-_yf"
      }
    },
    {
      "cell_type": "markdown",
      "source": [
        "**Constraint Net**"
      ],
      "metadata": {
        "id": "cs6oAupIlE8s"
      }
    },
    {
      "cell_type": "code",
      "source": [
        "class ConstraintNet(keras.Model):\n",
        "    def __init__(self, time_step, x_dim, z_dim, N, name='constraint_net', **kwargs):\n",
        "        super(ConstraintNet, self).__init__(name=name, **kwargs)\n",
        "\n",
        "        self.layer1 = layers.Dense(8, input_dim=x_dim, activation='relu')\n",
        "        self.layer2 = layers.Dense(16, activation='relu')\n",
        "        self.out = layers.Dense(z_dim * N, activation='relu')\n",
        "        self.reshape = layers.Reshape((N, z_dim))\n",
        "\n",
        "        self.N = N\n",
        "        self.z_dim = z_dim\n",
        "\n",
        "    def call(self, inputs, z):\n",
        "        h = self.layer1(inputs)\n",
        "        h = self.layer2(h)\n",
        "        out = self.out(h)\n",
        "        c_mat = self.reshape(out)\n",
        "        w = tf.matmul(z, c_mat, transpose_b=True)\n",
        "        thres = tf.constant(w_thres, shape=w.shape)\n",
        "        mask = tf.cast(w > thres, dtype=tf.float32)\n",
        "        w_dash = tf.multiply(w, mask)\n",
        "        z_dash = tf.linalg.matmul(w_dash, c_mat)\n",
        "        z_dash = tf.squeeze(z_dash, axis=1)\n",
        "        return z_dash\n",
        "\n",
        "    def cosine_similarity(self, X, Y):\n",
        "        X_norm = tf.norm(X, axis=1)\n",
        "        Y_norm = tf.norm(Y, axis=1)\n",
        "        dot_prod = tf.reduce_sum(X * Y, 1)\n",
        "        w = dot_prod / (X_norm * Y_norm)\n",
        "        return w"
      ],
      "metadata": {
        "id": "PT3D7-MukV6S"
      },
      "execution_count": 16,
      "outputs": []
    },
    {
      "cell_type": "markdown",
      "source": [
        "# Реализация: VELC"
      ],
      "metadata": {
        "id": "EPzgCIAs_EMM"
      }
    },
    {
      "cell_type": "markdown",
      "source": [
        "**VELC**"
      ],
      "metadata": {
        "id": "NTQke6NLlHlR"
      }
    },
    {
      "cell_type": "code",
      "source": [
        "loss_metric = keras.metrics.Mean(name='loss')\n",
        "likelihood_metric = keras.metrics.Mean(name='log likelihood')\n",
        "\n",
        "class VELC(keras.Model):\n",
        "    def __init__(self, time_step, x_dim, lstm_h_dim, z_dim,N_constraintNet, name='velc', **kwargs):\n",
        "        super(VELC, self).__init__(name=name, **kwargs)\n",
        "\n",
        "        self.encoder = Encoder(time_step, x_dim, lstm_h_dim, z_dim, **kwargs)\n",
        "        self.decoder = Decoder(time_step, x_dim, lstm_h_dim, z_dim, **kwargs)\n",
        "\n",
        "\n",
        "        self.constraint_net_1 = ConstraintNet(time_step,x_dim,z_dim,N_constraintNet,name=\"constNet1\",**kwargs)\n",
        "        self.re_encoder = Encoder(time_step, x_dim, lstm_h_dim, z_dim,name=\"re_encoder\",**kwargs)\n",
        "        self.constraint_net_2 = ConstraintNet(time_step,x_dim,z_dim,N_constraintNet,name=\"constNet2\",**kwargs)\n",
        "\n",
        "\n",
        "    def call(self, inputs,**kwargs):\n",
        "        mu_z, logvar_z, z = self.encoder(inputs)\n",
        "        z_dash = self.constraint_net_1(inputs, z)\n",
        "        mu_x, sigma_x, x_dash = self.decoder(z_dash)\n",
        "        mu_re_z, logvar_re_z, re_z = self.re_encoder(x_dash)\n",
        "        re_z_dash = self.constraint_net_2(x_dash, re_z)\n",
        "\n",
        "        recons_loss = self.l2_NORM(inputs, x_dash)\n",
        "        kl_loss_1 = self.kl_loss(logvar_z,mu_z)\n",
        "        kl_loss_2 = self.kl_loss(logvar_re_z,mu_re_z)\n",
        "        latent_loss = self.l2_NORM(z_dash, re_z_dash)\n",
        "        total_loss = recons_loss + kl_loss_1 + kl_loss_2 + latent_loss\n",
        "\n",
        "\n",
        "        anomaly_score = self.anomaly_score(inputs, x_dash, z_dash, re_z_dash)\n",
        "        dist = tfp.distributions.Normal(loc=mu_x, scale=tf.abs(sigma_x))\n",
        "        log_px = -dist.log_prob(inputs)\n",
        "\n",
        "        return anomaly_score,total_loss, log_px\n",
        "\n",
        "\n",
        "    def get_config(self):\n",
        "        config = {\n",
        "            'encoder': self.encoder.get_config(),\n",
        "            'decoder': self.decoder.get_config(),\n",
        "            'name': self.name\n",
        "        }\n",
        "        return config\n",
        "\n",
        "    def l2_NORM(self, x, x_dash):\n",
        "        recons_loss = tf.norm(x - x_dash,ord='euclidean', axis=1)\n",
        "        return K.mean(recons_loss)\n",
        "\n",
        "    def kl_loss(self, logvar_z, mu_z):\n",
        "        kl_loss = -0.5 * (1 + logvar_z - tf.square(mu_z) - tf.exp(logvar_z))\n",
        "        kl_loss = tf.reduce_mean(tf.reduce_sum(kl_loss, axis=1))\n",
        "        return kl_loss\n",
        "\n",
        "    def mean_log_likelihood(self, log_px):\n",
        "        log_px = K.reshape(log_px, shape=(log_px.shape[0], log_px.shape[2]))\n",
        "        mean_log_px = K.mean(log_px, axis=1)\n",
        "        return K.mean(mean_log_px, axis=0)\n",
        "\n",
        "    def train_step(self, data):\n",
        "        if isinstance(data, tuple):\n",
        "            x = data[0]\n",
        "        else:\n",
        "            x = data\n",
        "\n",
        "        with tf.GradientTape() as tape:\n",
        "            anomaly_score,loss, log_px = self(x, training=True)\n",
        "            mean_log_px = self.mean_log_likelihood(log_px)\n",
        "\n",
        "        grads = tape.gradient(loss, self.trainable_variables)\n",
        "        self.optimizer.apply_gradients(zip(grads, self.trainable_variables))\n",
        "\n",
        "        loss_metric.update_state(loss)\n",
        "        likelihood_metric.update_state(mean_log_px)\n",
        "        return {'loss': loss_metric.result(), 'log_likelihood': likelihood_metric.result()}\n",
        "\n",
        "\n",
        "    def anomaly_score(self, x, x_dash, z_dash, re_z_dash):\n",
        "        a1 = tf.squeeze(tf.norm(x - x_dash, ord=1, axis=1))\n",
        "        a2 = tf.norm(z_dash - re_z_dash, ord=1, axis=0)\n",
        "        ax = alpha * a1 + beta * a2\n",
        "        ax_mean = K.mean(ax)\n",
        "        return ax_mean"
      ],
      "metadata": {
        "id": "fuuGjqdbkdFv"
      },
      "execution_count": 17,
      "outputs": []
    },
    {
      "cell_type": "markdown",
      "source": [
        "# Реализация: утилиты"
      ],
      "metadata": {
        "id": "7ab9Bbe1_IeF"
      }
    },
    {
      "cell_type": "markdown",
      "source": [
        "**Utils**"
      ],
      "metadata": {
        "id": "pKccYitulJ2G"
      }
    },
    {
      "cell_type": "code",
      "source": [
        "def split_normalize_data(all_df):\n",
        "    all_df = all_df[:row_mark]\n",
        "    scaler = MinMaxScaler()\n",
        "    scaler.fit(np.array(all_df)[:, 1:])\n",
        "    normalized = scaler.transform(np.array(all_df)[:, 1:])\n",
        "    return normalized\n",
        "\n",
        "def reshape(da):\n",
        "    return da.reshape(da.shape[0], time_step, da.shape[1]).astype(\"float32\")\n",
        "\n",
        "def changeVal(val):\n",
        "    if val == 'Normal':\n",
        "        return 0\n",
        "    else:\n",
        "        return 1\n",
        "\n",
        "class Sampling(layers.Layer):\n",
        "    def __init__(self, name='sampling_z'):\n",
        "        super(Sampling, self).__init__(name=name)\n",
        "\n",
        "    def call(self, inputs,**kwargs):\n",
        "        mu, logvar = inputs\n",
        "        print('mu: ', mu)\n",
        "        sigma = K.exp(logvar * 0.3)\n",
        "        epsilon = K.random_normal(shape=(mu.shape[0], z_dim), mean=0.0, stddev=0.0)\n",
        "        return mu + epsilon * sigma\n",
        "\n",
        "    def get_config(self):\n",
        "        config = super(Sampling, self).get_config()\n",
        "        config.update({'name': self.name})\n",
        "        return config"
      ],
      "metadata": {
        "id": "QSkd0Pexkexx"
      },
      "execution_count": 18,
      "outputs": []
    },
    {
      "cell_type": "markdown",
      "source": [
        "# Запуск VELC на датасете"
      ],
      "metadata": {
        "id": "rA8tvJemlhH-"
      }
    },
    {
      "cell_type": "markdown",
      "source": [
        "Чтение данных"
      ],
      "metadata": {
        "id": "V9lwTtrUyIyH"
      }
    },
    {
      "cell_type": "code",
      "source": [
        "try:\n",
        "    attacks = pd.read_csv(\"/content/SWaT_Dataset_Attack_v0_cleared.csv\")\n",
        "    normals = pd.read_csv(\"/content/SWaT_Dataset_Normal_v1_cleared.csv\")\n",
        "    print(\"Attacks dataset shape: \", attacks.shape)\n",
        "    print(\"Normals dataset shape: \", normals.shape)\n",
        "    attacks['Normal/Attack'] = attacks['Normal/Attack'].apply(lambda a: changeVal(a))\n",
        "    attacks_show = attacks[:row_mark]\n",
        "    attacks_show.plot(x=' Timestamp', y='Normal/Attack')\n",
        "    plt.show()\n",
        "except Exception:\n",
        "    print(\"Dataset not found\")"
      ],
      "metadata": {
        "id": "AAxKkkEvlT6H",
        "colab": {
          "base_uri": "https://localhost:8080/",
          "height": 314
        },
        "outputId": "9a09c590-2fee-40d2-dff3-29c9aeb1940a"
      },
      "execution_count": 19,
      "outputs": [
        {
          "output_type": "stream",
          "name": "stdout",
          "text": [
            "Attacks dataset shape:  (449919, 53)\n",
            "Normals dataset shape:  (410400, 53)\n"
          ]
        },
        {
          "output_type": "display_data",
          "data": {
            "text/plain": [
              "<Figure size 432x288 with 1 Axes>"
            ],
            "image/png": "[encoded data removed]"
          },
          "metadata": {
            "needs_background": "light"
          }
        }
      ]
    },
    {
      "cell_type": "markdown",
      "source": [
        "Нормализация данных"
      ],
      "metadata": {
        "id": "fIDRHR3MyMrt"
      }
    },
    {
      "cell_type": "code",
      "source": [
        "attacks_df = pd.DataFrame(attacks)\n",
        "normal_df = pd.DataFrame(normals)\n",
        "attacks_df = attacks_df.drop(attacks_df.columns[len(attacks_df.columns) - 1], axis=1)\n",
        "normal_df = normal_df.drop(normal_df.columns[len(normal_df.columns) - 1], axis=1)\n",
        "train_scaled = split_normalize_data(normal_df)\n",
        "test_scaled = split_normalize_data(attacks_df)\n",
        "x_dim = train_scaled.shape[1]\n",
        "print(\"train and test data shape after scaling: \", train_scaled.shape, test_scaled.shape)"
      ],
      "metadata": {
        "id": "YIQlJDYIvoNx",
        "colab": {
          "base_uri": "https://localhost:8080/"
        },
        "outputId": "3aad4c55-304a-4eb9-8965-64a7709af330"
      },
      "execution_count": 20,
      "outputs": [
        {
          "output_type": "stream",
          "name": "stdout",
          "text": [
            "train and test data shape after scaling:  (100000, 51) (100000, 51)\n"
          ]
        }
      ]
    },
    {
      "cell_type": "markdown",
      "source": [
        "Применение модели"
      ],
      "metadata": {
        "id": "KzJGiIw9yP0R"
      }
    },
    {
      "cell_type": "code",
      "source": [
        "train_X = reshape(train_scaled)\n",
        "test_X = reshape(test_scaled)\n",
        "\n",
        "opt = keras.optimizers.Adam(learning_rate, epsilon=1e-06, amsgrad=True)\n",
        "\n",
        "model = VELC(time_step, x_dim, lstm_h_dim, z_dim, N_constraintNet, dtype='float32')\n",
        "model.compile(loss='binary_crossentropy', optimizer=opt)\n",
        "train_dataset = data.Dataset.from_tensor_slices(train_X)\n",
        "train_dataset = train_dataset.shuffle(buffer_size=1024).batch(batch_size, drop_remainder=True)\n",
        "\n",
        "history = model.fit(train_dataset, epochs=epoch_num, shuffle=False).history\n",
        "model.summary()\n",
        "\n",
        "anomaly_score_train, loss_train, train_log_px = model.predict(train_X, batch_size=1)\n",
        "anomaly_score_test, loss_test, test_log_px = model.predict(test_X, batch_size=1)"
      ],
      "metadata": {
        "id": "4JC4-TC-wGrL",
        "colab": {
          "base_uri": "https://localhost:8080/"
        },
        "outputId": "512c930a-9634-4ee3-9eb9-82a982adc0d9"
      },
      "execution_count": 21,
      "outputs": [
        {
          "output_type": "stream",
          "name": "stdout",
          "text": [
            "Epoch 1/16\n",
            "mu:  Tensor(\"velc/encoder/z_mean/BiasAdd:0\", shape=(1, 51), dtype=float32)\n",
            "mu:  Tensor(\"velc/decoder/x_mean/BiasAdd:0\", shape=(1, 1, 51), dtype=float32)\n",
            "mu:  Tensor(\"velc/re_encoder/z_mean/BiasAdd:0\", shape=(1, 51), dtype=float32)\n"
          ]
        },
        {
          "output_type": "stream",
          "name": "stderr",
          "text": [
            "WARNING:tensorflow:Gradients do not exist for variables ['velc/decoder/x_sigma/kernel:0', 'velc/decoder/x_sigma/bias:0'] when minimizing the loss. If you're using `model.compile()`, did you forget to provide a `loss`argument?\n"
          ]
        },
        {
          "output_type": "stream",
          "name": "stdout",
          "text": [
            "mu:  Tensor(\"velc/encoder/z_mean/BiasAdd:0\", shape=(1, 51), dtype=float32)\n",
            "mu:  Tensor(\"velc/decoder/x_mean/BiasAdd:0\", shape=(1, 1, 51), dtype=float32)\n",
            "mu:  Tensor(\"velc/re_encoder/z_mean/BiasAdd:0\", shape=(1, 51), dtype=float32)\n"
          ]
        },
        {
          "output_type": "stream",
          "name": "stderr",
          "text": [
            "WARNING:tensorflow:Gradients do not exist for variables ['velc/decoder/x_sigma/kernel:0', 'velc/decoder/x_sigma/bias:0'] when minimizing the loss. If you're using `model.compile()`, did you forget to provide a `loss`argument?\n"
          ]
        },
        {
          "output_type": "stream",
          "name": "stdout",
          "text": [
            "100000/100000 [==============================] - 759s 8ms/step - loss: 13.6138 - log_likelihood: 18.6574\n",
            "Epoch 2/16\n",
            "100000/100000 [==============================] - 761s 8ms/step - loss: 13.6066 - log_likelihood: 19.0375\n",
            "Epoch 3/16\n",
            "100000/100000 [==============================] - 758s 8ms/step - loss: 13.5968 - log_likelihood: 19.0720\n",
            "Epoch 4/16\n",
            "100000/100000 [==============================] - 758s 8ms/step - loss: 13.5815 - log_likelihood: 19.0859\n",
            "Epoch 5/16\n",
            "100000/100000 [==============================] - 741s 7ms/step - loss: 13.5651 - log_likelihood: 19.0938\n",
            "Epoch 6/16\n",
            "100000/100000 [==============================] - 706s 7ms/step - loss: 13.5546 - log_likelihood: 19.0990\n",
            "Epoch 7/16\n",
            "100000/100000 [==============================] - 798s 8ms/step - loss: 13.5701 - log_likelihood: 19.1024\n",
            "Epoch 8/16\n",
            "100000/100000 [==============================] - 766s 8ms/step - loss: 13.6195 - log_likelihood: 19.1048\n",
            "Epoch 9/16\n",
            "100000/100000 [==============================] - 695s 7ms/step - loss: 13.6579 - log_likelihood: 19.1063\n",
            "Epoch 10/16\n",
            "100000/100000 [==============================] - 795s 8ms/step - loss: 13.6879 - log_likelihood: 19.1046\n",
            "Epoch 11/16\n",
            "100000/100000 [==============================] - 754s 8ms/step - loss: 13.7117 - log_likelihood: 19.1021\n",
            "Epoch 12/16\n",
            "100000/100000 [==============================] - 688s 7ms/step - loss: 13.7312 - log_likelihood: 19.0999\n",
            "Epoch 13/16\n",
            "100000/100000 [==============================] - 701s 7ms/step - loss: 13.7479 - log_likelihood: 19.0981\n",
            "Epoch 14/16\n",
            "100000/100000 [==============================] - 647s 6ms/step - loss: 13.7666 - log_likelihood: 19.0965\n",
            "Epoch 15/16\n",
            "100000/100000 [==============================] - 658s 7ms/step - loss: 13.7827 - log_likelihood: 19.0951\n",
            "Epoch 16/16\n",
            "100000/100000 [==============================] - 691s 7ms/step - loss: 13.7967 - log_likelihood: 19.0938\n",
            "Model: \"velc\"\n",
            "_________________________________________________________________\n",
            " Layer (type)                Output Shape              Param #   \n",
            "=================================================================\n",
            " encoder (Encoder)           multiple                  52530     \n",
            "                                                                 \n",
            " decoder (Decoder)           multiple                  57783     \n",
            "                                                                 \n",
            " constNet1 (ConstraintNet)   multiple                  9230      \n",
            "                                                                 \n",
            " re_encoder (Encoder)        multiple                  52530     \n",
            "                                                                 \n",
            " constNet2 (ConstraintNet)   multiple                  9230      \n",
            "                                                                 \n",
            "=================================================================\n",
            "Total params: 181,303\n",
            "Trainable params: 181,303\n",
            "Non-trainable params: 0\n",
            "_________________________________________________________________\n",
            "mu:  Tensor(\"velc/encoder/z_mean/BiasAdd:0\", shape=(1, 51), dtype=float32)\n",
            "mu:  Tensor(\"velc/decoder/x_mean/BiasAdd:0\", shape=(1, 1, 51), dtype=float32)\n",
            "mu:  Tensor(\"velc/re_encoder/z_mean/BiasAdd:0\", shape=(1, 51), dtype=float32)\n",
            "100000/100000 [==============================] - 306s 3ms/step\n",
            "100000/100000 [==============================] - 299s 3ms/step\n"
          ]
        }
      ]
    },
    {
      "cell_type": "markdown",
      "source": [
        "# Вывод результата"
      ],
      "metadata": {
        "id": "jyWEneLyyTor"
      }
    },
    {
      "cell_type": "code",
      "source": [
        "df_train_anomaly = pd.DataFrame()\n",
        "df_train_anomaly['train_anomaly'] = anomaly_score_train\n",
        "df_train_anomaly['train_anomaly'] = df_train_anomaly['train_anomaly'].astype(float)\n",
        "df_train_anomaly[df_train_anomaly.replace([np.inf, -np.inf], np.nan).notnull().all(axis=1)]\n",
        "df_train_anomaly['train_anomaly'].plot()\n",
        "\n",
        "df_test_anomaly = pd.DataFrame()\n",
        "df_test_anomaly['test_anomaly'] = anomaly_score_test\n",
        "df_test_anomaly['test_anomaly'] = df_test_anomaly['test_anomaly'].astype(float)\n",
        "df_test_anomaly[df_test_anomaly.replace([np.inf, -np.inf], np.nan).notnull().all(axis=1)]\n",
        "df_test_anomaly['test_anomaly'].plot()"
      ],
      "metadata": {
        "id": "wYLOOEc9yV_1",
        "colab": {
          "base_uri": "https://localhost:8080/",
          "height": 282
        },
        "outputId": "67d29605-4c5d-4b32-b504-e19ccb0434b6"
      },
      "execution_count": 22,
      "outputs": [
        {
          "output_type": "execute_result",
          "data": {
            "text/plain": [
              "<matplotlib.axes._subplots.AxesSubplot at 0x7f422fb87790>"
            ]
          },
          "metadata": {},
          "execution_count": 22
        },
        {
          "output_type": "display_data",
          "data": {
            "text/plain": [
              "<Figure size 432x288 with 1 Axes>"
            ],
            "image/png": "[encoded data removed]"
          },
          "metadata": {
            "needs_background": "light"
          }
        }
      ]
    }
  ]
}