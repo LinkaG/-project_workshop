{
  "nbformat": 4,
  "nbformat_minor": 0,
  "metadata": {
    "colab": {
      "provenance": []
    },
    "kernelspec": {
      "name": "python3",
      "display_name": "Python 3"
    },
    "language_info": {
      "name": "python"
    }
  },
  "cells": [
    {
      "cell_type": "markdown",
      "source": [
        "# Общее описание\n"
      ],
      "metadata": {
        "id": "w7CKpM27jnzD"
      }
    },
    {
      "cell_type": "markdown",
      "source": [
        "# Реализация: импорт библиотек и константы"
      ],
      "metadata": {
        "id": "heAqAmdjj0Jo"
      }
    },
    {
      "cell_type": "code",
      "source": [
        "import numpy as np\n",
        "np.random.seed(0)\n",
        "import pandas as pd\n",
        "from sklearn.preprocessing import MinMaxScaler\n",
        "import os\n",
        "os.environ[\"CUDA_VISIBLE_DEVICES\"] = \"-1\"\n",
        "import tensorflow as tf\n",
        "tf.random.set_seed(0)\n",
        "from tensorflow import keras, data\n",
        "import tensorflow_probability as tfp\n",
        "from keras import layers, regularizers, activations\n",
        "from keras.layers import Bidirectional\n",
        "from keras import backend as K\n",
        "import seaborn as sns\n",
        "import matplotlib.pyplot as plt"
      ],
      "metadata": {
        "id": "Uwr_vkzJj3OY"
      },
      "execution_count": 1,
      "outputs": []
    },
    {
      "cell_type": "code",
      "source": [
        "row_mark = 1500\n",
        "batch_size = 1\n",
        "time_step = 1\n",
        "lstm_h_dim = 8\n",
        "z_dim = 4\n",
        "epoch_num = 32\n",
        "threshold = 50\n",
        "alpha = 0.7\n",
        "beta = 0.3\n",
        "\n",
        "# extension parameters\n",
        "N_constraintNet = 10\n",
        "w_thres = 0.01\n",
        "learning_rate = 1e-10\n",
        "\n",
        "model_dir = \"content/lstm_vae_model/\"\n",
        "image_dir = \"content/lstm_vae_images/\""
      ],
      "metadata": {
        "id": "11fgu57Ej_6E"
      },
      "execution_count": 2,
      "outputs": []
    },
    {
      "cell_type": "markdown",
      "source": [
        "# Реализация: Encoder и Decoder"
      ],
      "metadata": {
        "id": "PkJycrrQk1th"
      }
    },
    {
      "cell_type": "markdown",
      "source": [
        "Encoder"
      ],
      "metadata": {
        "id": "-3xfPX3i7dv5"
      }
    },
    {
      "cell_type": "code",
      "source": [
        "class Encoder(layers.Layer):\n",
        "    def __init__(self, time_step, x_dim, lstm_h_dim, z_dim, name='encoder', **kwargs):\n",
        "        super(Encoder, self).__init__(name=name, **kwargs)\n",
        "\n",
        "        self.encoder_inputs = keras.Input(shape=(time_step, x_dim))\n",
        "        self.encoder_lstm = Bidirectional(layers.LSTM(lstm_h_dim, activation='sigmoid', name='encoder_lstm', stateful=True))\n",
        "        self.z_mean = layers.Dense(z_dim, name='z_mean')\n",
        "        self.z_logvar = layers.Dense(z_dim, name='z_log_var')\n",
        "        self.z_sample = Sampling()\n",
        "\n",
        "    def call(self, inputs,**kwargs):\n",
        "        self.encoder_inputs = inputs\n",
        "        hidden = self.encoder_lstm(self.encoder_inputs)\n",
        "        mu_z = self.z_mean(hidden)\n",
        "        logvar_z = self.z_logvar(hidden)\n",
        "        z = self.z_sample((mu_z, logvar_z))\n",
        "        return mu_z, logvar_z, z\n",
        "\n",
        "    def get_config(self):\n",
        "        config = super(Encoder, self).get_config()\n",
        "        config.update({\n",
        "            'name': self.name,\n",
        "            'z_sample': self.z_sample.get_config()\n",
        "        })\n",
        "        return config"
      ],
      "metadata": {
        "id": "gbCGvLNTkDQM"
      },
      "execution_count": 3,
      "outputs": []
    },
    {
      "cell_type": "markdown",
      "source": [
        "Decoder"
      ],
      "metadata": {
        "id": "BxzpCh56k_Iq"
      }
    },
    {
      "cell_type": "code",
      "source": [
        "class Decoder(layers.Layer):\n",
        "    def __init__(self, time_step, x_dim, lstm_h_dim, z_dim, name='decoder', **kwargs):\n",
        "        super(Decoder, self).__init__(name=name, **kwargs)\n",
        "\n",
        "        self.z_inputs = layers.RepeatVector(time_step, name='repeat_vector')\n",
        "        self.decoder_lstm_hidden = Bidirectional(layers.LSTM(lstm_h_dim, activation='sigmoid', return_sequences=True,\n",
        "                                               name='decoder_lstm'))\n",
        "        self.x_mean = layers.Dense(x_dim, name='x_mean')\n",
        "        self.x_logvar = layers.Dense(x_dim, name='x_log_var')\n",
        "        self.x_sample = Sampling()\n",
        "        self.x_sigma = layers.Dense(x_dim, name='x_sigma', activation='tanh')\n",
        "\n",
        "    def call(self, inputs,**kwargs):\n",
        "        z = self.z_inputs(inputs)\n",
        "        hidden = self.decoder_lstm_hidden(z)\n",
        "        mu_x = self.x_mean(hidden)\n",
        "        logvar_x = self.x_logvar(hidden)\n",
        "        sigma_x = self.x_sigma(hidden)\n",
        "        x_dash = self.x_sample((mu_x, logvar_x))\n",
        "        return mu_x, sigma_x,x_dash\n",
        "\n",
        "    def get_config(self):\n",
        "        config = super(Decoder, self).get_config()\n",
        "        config.update({\n",
        "            'name': self.name\n",
        "        })\n",
        "        return config"
      ],
      "metadata": {
        "id": "9oz8K4vfkSs_"
      },
      "execution_count": 4,
      "outputs": []
    },
    {
      "cell_type": "markdown",
      "source": [
        "# Реализация: ConstraintNet"
      ],
      "metadata": {
        "id": "muGMGdRP7hnh"
      }
    },
    {
      "cell_type": "markdown",
      "source": [
        "Constraint Net"
      ],
      "metadata": {
        "id": "cs6oAupIlE8s"
      }
    },
    {
      "cell_type": "code",
      "source": [
        "class ConstraintNet(keras.Model):\n",
        "    def __init__(self, time_step, x_dim, z_dim, N, name='constraint_net', **kwargs):\n",
        "        super(ConstraintNet, self).__init__(name=name, **kwargs)\n",
        "\n",
        "        self.layer1 = layers.Dense(8, input_dim=x_dim, activation='relu')\n",
        "        self.layer2 = layers.Dense(16, activation='relu')\n",
        "        self.out = layers.Dense(z_dim * N, activation='relu')\n",
        "        self.reshape = layers.Reshape((N, z_dim))\n",
        "\n",
        "        self.N = N\n",
        "        self.z_dim = z_dim\n",
        "\n",
        "    def call(self, inputs, z):\n",
        "        h = self.layer1(inputs)\n",
        "        h = self.layer2(h)\n",
        "        out = self.out(h)\n",
        "        c_mat = self.reshape(out)\n",
        "        w = tf.matmul(z, c_mat, transpose_b=True)\n",
        "        thres = tf.constant(w_thres, shape=w.shape)\n",
        "        mask = tf.cast(w > thres, dtype=tf.float32)\n",
        "        w_dash = tf.multiply(w, mask)\n",
        "        z_dash = tf.linalg.matmul(w_dash, c_mat)\n",
        "        z_dash = tf.squeeze(z_dash, axis=1)\n",
        "        return z_dash\n",
        "\n",
        "    def cosine_similarity(self, X, Y):\n",
        "        X_norm = tf.norm(X, axis=1)\n",
        "        Y_norm = tf.norm(Y, axis=1)\n",
        "        dot_prod = tf.reduce_sum(X * Y, 1)\n",
        "        w = dot_prod / (X_norm * Y_norm)\n",
        "        return w"
      ],
      "metadata": {
        "id": "PT3D7-MukV6S"
      },
      "execution_count": 5,
      "outputs": []
    },
    {
      "cell_type": "markdown",
      "source": [
        "# Реализация: VELC"
      ],
      "metadata": {
        "id": "YNIcYnot7prr"
      }
    },
    {
      "cell_type": "markdown",
      "source": [
        "VELC"
      ],
      "metadata": {
        "id": "NTQke6NLlHlR"
      }
    },
    {
      "cell_type": "code",
      "source": [
        "loss_metric = keras.metrics.Mean(name='loss')\n",
        "likelihood_metric = keras.metrics.Mean(name='log likelihood')\n",
        "\n",
        "class VELC(keras.Model):\n",
        "    def __init__(self, time_step, x_dim, lstm_h_dim, z_dim,N_constraintNet, name='velc', **kwargs):\n",
        "        super(VELC, self).__init__(name=name, **kwargs)\n",
        "\n",
        "        self.encoder = Encoder(time_step, x_dim, lstm_h_dim, z_dim, **kwargs)\n",
        "        self.decoder = Decoder(time_step, x_dim, lstm_h_dim, z_dim, **kwargs)\n",
        "\n",
        "\n",
        "        self.constraint_net_1 = ConstraintNet(time_step,x_dim,z_dim,N_constraintNet,name=\"constNet1\",**kwargs)\n",
        "        self.re_encoder = Encoder(time_step, x_dim, lstm_h_dim, z_dim,name=\"re_encoder\",**kwargs)\n",
        "        self.constraint_net_2 = ConstraintNet(time_step,x_dim,z_dim,N_constraintNet,name=\"constNet2\",**kwargs)\n",
        "\n",
        "\n",
        "    def call(self, inputs,**kwargs):\n",
        "        mu_z, logvar_z, z = self.encoder(inputs)\n",
        "        z_dash = self.constraint_net_1(inputs, z)\n",
        "        mu_x, sigma_x, x_dash = self.decoder(z_dash)\n",
        "        mu_re_z, logvar_re_z, re_z = self.re_encoder(x_dash)\n",
        "        re_z_dash = self.constraint_net_2(x_dash, re_z)\n",
        "\n",
        "        recons_loss = self.l2_NORM(inputs, x_dash)\n",
        "        kl_loss_1 = self.kl_loss(logvar_z,mu_z)\n",
        "        kl_loss_2 = self.kl_loss(logvar_re_z,mu_re_z)\n",
        "        latent_loss = self.l2_NORM(z_dash, re_z_dash)\n",
        "        total_loss = recons_loss + kl_loss_1 + kl_loss_2 + latent_loss\n",
        "\n",
        "\n",
        "        anomaly_score = self.anomaly_score(inputs, x_dash, z_dash, re_z_dash)\n",
        "        dist = tfp.distributions.Normal(loc=mu_x, scale=tf.abs(sigma_x))\n",
        "        log_px = -dist.log_prob(inputs)\n",
        "\n",
        "        return anomaly_score,total_loss, log_px\n",
        "\n",
        "\n",
        "    def get_config(self):\n",
        "        config = {\n",
        "            'encoder': self.encoder.get_config(),\n",
        "            'decoder': self.decoder.get_config(),\n",
        "            'name': self.name\n",
        "        }\n",
        "        return config\n",
        "\n",
        "    def l2_NORM(self, x, x_dash):\n",
        "        recons_loss = tf.norm(x - x_dash,ord='euclidean', axis=1)\n",
        "        return K.mean(recons_loss)\n",
        "\n",
        "    def kl_loss(self, logvar_z, mu_z):\n",
        "        kl_loss = -0.5 * (1 + logvar_z - tf.square(mu_z) - tf.exp(logvar_z))\n",
        "        kl_loss = tf.reduce_mean(tf.reduce_sum(kl_loss, axis=1))\n",
        "        return kl_loss\n",
        "\n",
        "    def mean_log_likelihood(self, log_px):\n",
        "        log_px = K.reshape(log_px, shape=(log_px.shape[0], log_px.shape[2]))\n",
        "        mean_log_px = K.mean(log_px, axis=1)\n",
        "        return K.mean(mean_log_px, axis=0)\n",
        "\n",
        "    def train_step(self, data):\n",
        "        if isinstance(data, tuple):\n",
        "            x = data[0]\n",
        "        else:\n",
        "            x = data\n",
        "\n",
        "        with tf.GradientTape() as tape:\n",
        "            anomaly_score,loss, log_px = self(x, training=True)\n",
        "            mean_log_px = self.mean_log_likelihood(log_px)\n",
        "\n",
        "        grads = tape.gradient(loss, self.trainable_variables)\n",
        "        self.optimizer.apply_gradients(zip(grads, self.trainable_variables))\n",
        "\n",
        "        loss_metric.update_state(loss)\n",
        "        likelihood_metric.update_state(mean_log_px)\n",
        "        return {'loss': loss_metric.result(), 'log_likelihood': likelihood_metric.result()}\n",
        "\n",
        "\n",
        "    def anomaly_score(self, x, x_dash, z_dash, re_z_dash):\n",
        "        a1 = tf.squeeze(tf.norm(x - x_dash, ord=1, axis=1))\n",
        "        a2 = tf.norm(z_dash - re_z_dash, ord=1, axis=0)\n",
        "        ax = alpha * a1 + beta * a2\n",
        "        ax_mean = K.mean(ax)\n",
        "        return ax_mean"
      ],
      "metadata": {
        "id": "fuuGjqdbkdFv"
      },
      "execution_count": 6,
      "outputs": []
    },
    {
      "cell_type": "markdown",
      "source": [
        "# Реализация: утилиты"
      ],
      "metadata": {
        "id": "1qExam_d7vcg"
      }
    },
    {
      "cell_type": "markdown",
      "source": [
        "Utils"
      ],
      "metadata": {
        "id": "pKccYitulJ2G"
      }
    },
    {
      "cell_type": "code",
      "source": [
        "def split_normalize_data(all_df):\n",
        "\n",
        "    train_df = all_df[:row_mark]\n",
        "    test_df = all_df[row_mark:]\n",
        "\n",
        "    scaler = MinMaxScaler()\n",
        "    scaler.fit(np.array(all_df)[:, 1:])\n",
        "    train_scaled = scaler.transform(np.array(train_df)[:, 1:])\n",
        "    test_scaled = scaler.transform(np.array(test_df)[:, 1:])\n",
        "    return train_scaled, test_scaled\n",
        "\n",
        "def reshape(da):\n",
        "    return da.reshape(da.shape[0], time_step, da.shape[1]).astype(\"float32\")\n",
        "\n",
        "class Sampling(layers.Layer):\n",
        "    def __init__(self, name='sampling_z'):\n",
        "        super(Sampling, self).__init__(name=name)\n",
        "\n",
        "    def call(self, inputs,**kwargs):\n",
        "        mu, logvar = inputs\n",
        "        print('mu: ', mu)\n",
        "        sigma = K.exp(logvar * 0.3)\n",
        "        epsilon = K.random_normal(shape=(mu.shape[0], z_dim), mean=0.0, stddev=0.0)\n",
        "        return mu + epsilon * sigma\n",
        "\n",
        "    def get_config(self):\n",
        "        config = super(Sampling, self).get_config()\n",
        "        config.update({'name': self.name})\n",
        "        return config"
      ],
      "metadata": {
        "id": "QSkd0Pexkexx"
      },
      "execution_count": 7,
      "outputs": []
    },
    {
      "cell_type": "markdown",
      "source": [
        "# Запуск VELC на датасете\n",
        "Читаем данные из файла и выводим их на график\n",
        "\n",
        "Красная линия - начало аномалии"
      ],
      "metadata": {
        "id": "rA8tvJemlhH-"
      }
    },
    {
      "cell_type": "code",
      "source": [
        "try:\n",
        "  dataset = pd.read_csv(\"/content/bear3.csv\")\n",
        "  print(\"Dataset shape: \", dataset.shape)\n",
        "  plt.figure(figsize=(10, 20))\n",
        "  dataset.plot(x='Time', y=['Bearing 1', 'Bearing 2', 'Bearing 3', 'Bearing 4'])\n",
        "  plt.axvline(x=6000, ymin=0.0, ymax=1, color='r') # начало аномалии\n",
        "  plt.show()\n",
        "except Exception:\n",
        "  print(\"Dataset not found\")\n"
      ],
      "metadata": {
        "id": "AAxKkkEvlT6H",
        "colab": {
          "base_uri": "https://localhost:8080/",
          "height": 314
        },
        "outputId": "f08c242e-2908-496a-c2d0-4c7a199bcfd4"
      },
      "execution_count": 8,
      "outputs": [
        {
          "output_type": "stream",
          "name": "stdout",
          "text": [
            "Dataset shape:  (6324, 5)\n"
          ]
        },
        {
          "output_type": "display_data",
          "data": {
            "text/plain": [
              "<Figure size 720x1440 with 0 Axes>"
            ]
          },
          "metadata": {}
        },
        {
          "output_type": "display_data",
          "data": {
            "text/plain": [
              "<Figure size 432x288 with 1 Axes>"
            ],
            "image/png": "[encoded data removed]"
          },
          "metadata": {
            "needs_background": "light"
          }
        }
      ]
    },
    {
      "cell_type": "markdown",
      "source": [
        "Делим датасет на тренировочную и тестовую выборки, нормализуем данные"
      ],
      "metadata": {
        "id": "I7UGK-oK6bIb"
      }
    },
    {
      "cell_type": "code",
      "source": [
        "all_df = pd.DataFrame(dataset)\n",
        "train_scaled, test_scaled = split_normalize_data(all_df)\n",
        "x_dim = train_scaled.shape[1]\n",
        "print(\"Размер тренировочного и тестового датасета: \", train_scaled.shape, test_scaled.shape)"
      ],
      "metadata": {
        "colab": {
          "base_uri": "https://localhost:8080/"
        },
        "id": "TmpIn6js2BXQ",
        "outputId": "8120ed3d-9dd0-495e-afae-0091b91274ac"
      },
      "execution_count": 9,
      "outputs": [
        {
          "output_type": "stream",
          "name": "stdout",
          "text": [
            "Размер тренировочного и тестового датасета:  (1500, 4) (4824, 4)\n"
          ]
        }
      ]
    },
    {
      "cell_type": "markdown",
      "source": [
        "Запускаем модель"
      ],
      "metadata": {
        "id": "LViYKmV06k8P"
      }
    },
    {
      "cell_type": "code",
      "source": [
        "train_X = reshape(train_scaled)\n",
        "test_X = reshape(test_scaled)\n",
        "\n",
        "opt = keras.optimizers.Adam(learning_rate, epsilon=1e-6, amsgrad=True)\n",
        "\n",
        "model = VELC(time_step, x_dim, lstm_h_dim, z_dim, N_constraintNet, dtype='float32')\n",
        "model.compile(loss='binary_crossentropy', optimizer=opt)\n",
        "train_dataset = data.Dataset.from_tensor_slices(train_X)\n",
        "train_dataset = train_dataset.shuffle(buffer_size=1024).batch(batch_size, drop_remainder=True)\n",
        "\n",
        "history = model.fit(train_dataset, epochs=epoch_num, shuffle=False).history\n",
        "model.summary()\n",
        "\n",
        "anomaly_score_train, loss_train, train_log_px = model.predict(train_X, batch_size=1)\n",
        "\n",
        "anomaly_score_test, loss_test, test_log_px = model.predict(test_X, batch_size=1)\n"
      ],
      "metadata": {
        "colab": {
          "base_uri": "https://localhost:8080/"
        },
        "id": "b2pvjEf-2vHC",
        "outputId": "44e8fec5-7f2b-41cb-d549-b0125a65a7e3"
      },
      "execution_count": 15,
      "outputs": [
        {
          "output_type": "stream",
          "name": "stdout",
          "text": [
            "Epoch 1/32\n",
            "mu:  Tensor(\"velc/encoder/z_mean/BiasAdd:0\", shape=(1, 4), dtype=float32)\n",
            "mu:  Tensor(\"velc/decoder/x_mean/BiasAdd:0\", shape=(1, 1, 4), dtype=float32)\n",
            "mu:  Tensor(\"velc/re_encoder/z_mean/BiasAdd:0\", shape=(1, 4), dtype=float32)\n"
          ]
        },
        {
          "output_type": "stream",
          "name": "stderr",
          "text": [
            "WARNING:tensorflow:Gradients do not exist for variables ['velc/decoder/x_sigma/kernel:0', 'velc/decoder/x_sigma/bias:0'] when minimizing the loss. If you're using `model.compile()`, did you forget to provide a `loss`argument?\n"
          ]
        },
        {
          "output_type": "stream",
          "name": "stdout",
          "text": [
            "mu:  Tensor(\"velc/encoder/z_mean/BiasAdd:0\", shape=(1, 4), dtype=float32)\n",
            "mu:  Tensor(\"velc/decoder/x_mean/BiasAdd:0\", shape=(1, 1, 4), dtype=float32)\n",
            "mu:  Tensor(\"velc/re_encoder/z_mean/BiasAdd:0\", shape=(1, 4), dtype=float32)\n"
          ]
        },
        {
          "output_type": "stream",
          "name": "stderr",
          "text": [
            "WARNING:tensorflow:Gradients do not exist for variables ['velc/decoder/x_sigma/kernel:0', 'velc/decoder/x_sigma/bias:0'] when minimizing the loss. If you're using `model.compile()`, did you forget to provide a `loss`argument?\n"
          ]
        },
        {
          "output_type": "stream",
          "name": "stdout",
          "text": [
            "1500/1500 [==============================] - 16s 6ms/step - loss: 1.3503 - log_likelihood: 15.5200\n",
            "Epoch 2/32\n",
            "1500/1500 [==============================] - 9s 6ms/step - loss: 1.3546 - log_likelihood: 15.5998\n",
            "Epoch 3/32\n",
            "1500/1500 [==============================] - 9s 6ms/step - loss: 1.3589 - log_likelihood: 15.6784\n",
            "Epoch 4/32\n",
            "1500/1500 [==============================] - 9s 6ms/step - loss: 1.3631 - log_likelihood: 15.7558\n",
            "Epoch 5/32\n",
            "1500/1500 [==============================] - 9s 6ms/step - loss: 1.3673 - log_likelihood: 15.8322\n",
            "Epoch 6/32\n",
            "1500/1500 [==============================] - 8s 6ms/step - loss: 1.3714 - log_likelihood: 15.9076\n",
            "Epoch 7/32\n",
            "1500/1500 [==============================] - 9s 6ms/step - loss: 1.3754 - log_likelihood: 15.9821\n",
            "Epoch 8/32\n",
            "1500/1500 [==============================] - 8s 5ms/step - loss: 1.3794 - log_likelihood: 16.0553\n",
            "Epoch 9/32\n",
            "1500/1500 [==============================] - 9s 6ms/step - loss: 1.3834 - log_likelihood: 16.1278\n",
            "Epoch 10/32\n",
            "1500/1500 [==============================] - 8s 5ms/step - loss: 1.3873 - log_likelihood: 16.1991\n",
            "Epoch 11/32\n",
            "1500/1500 [==============================] - 8s 5ms/step - loss: 1.3911 - log_likelihood: 16.2697\n",
            "Epoch 12/32\n",
            "1500/1500 [==============================] - 8s 5ms/step - loss: 1.3949 - log_likelihood: 16.3393\n",
            "Epoch 13/32\n",
            "1500/1500 [==============================] - 8s 5ms/step - loss: 1.3986 - log_likelihood: 16.4080\n",
            "Epoch 14/32\n",
            "1500/1500 [==============================] - 8s 5ms/step - loss: 1.4023 - log_likelihood: 16.4757\n",
            "Epoch 15/32\n",
            "1500/1500 [==============================] - 8s 5ms/step - loss: 1.4060 - log_likelihood: 16.5426\n",
            "Epoch 16/32\n",
            "1500/1500 [==============================] - 8s 5ms/step - loss: 1.4096 - log_likelihood: 16.6087\n",
            "Epoch 17/32\n",
            "1500/1500 [==============================] - 8s 5ms/step - loss: 1.4131 - log_likelihood: 16.6740\n",
            "Epoch 18/32\n",
            "1500/1500 [==============================] - 8s 5ms/step - loss: 1.4166 - log_likelihood: 16.7385\n",
            "Epoch 19/32\n",
            "1500/1500 [==============================] - 8s 5ms/step - loss: 1.4201 - log_likelihood: 16.8020\n",
            "Epoch 20/32\n",
            "1500/1500 [==============================] - 8s 5ms/step - loss: 1.4235 - log_likelihood: 16.8649\n",
            "Epoch 21/32\n",
            "1500/1500 [==============================] - 8s 5ms/step - loss: 1.4269 - log_likelihood: 16.9268\n",
            "Epoch 22/32\n",
            "1500/1500 [==============================] - 9s 6ms/step - loss: 1.4302 - log_likelihood: 16.9882\n",
            "Epoch 23/32\n",
            "1500/1500 [==============================] - 8s 5ms/step - loss: 1.4335 - log_likelihood: 17.0487\n",
            "Epoch 24/32\n",
            "1500/1500 [==============================] - 7s 5ms/step - loss: 1.4368 - log_likelihood: 17.1084\n",
            "Epoch 25/32\n",
            "1500/1500 [==============================] - 7s 5ms/step - loss: 1.4400 - log_likelihood: 17.1675\n",
            "Epoch 26/32\n",
            "1500/1500 [==============================] - 8s 5ms/step - loss: 1.4431 - log_likelihood: 17.2259\n",
            "Epoch 27/32\n",
            "1500/1500 [==============================] - 8s 5ms/step - loss: 1.4463 - log_likelihood: 17.2835\n",
            "Epoch 28/32\n",
            "1500/1500 [==============================] - 8s 5ms/step - loss: 1.4494 - log_likelihood: 17.3405\n",
            "Epoch 29/32\n",
            "1500/1500 [==============================] - 8s 5ms/step - loss: 1.4525 - log_likelihood: 17.3967\n",
            "Epoch 30/32\n",
            "1500/1500 [==============================] - 8s 5ms/step - loss: 1.4555 - log_likelihood: 17.4523\n",
            "Epoch 31/32\n",
            "1500/1500 [==============================] - 8s 5ms/step - loss: 1.4585 - log_likelihood: 17.5073\n",
            "Epoch 32/32\n",
            "1500/1500 [==============================] - 9s 6ms/step - loss: 1.4614 - log_likelihood: 17.5617\n",
            "Model: \"velc\"\n",
            "_________________________________________________________________\n",
            " Layer (type)                Output Shape              Param #   \n",
            "=================================================================\n",
            " encoder (Encoder)           multiple                  968       \n",
            "                                                                 \n",
            " decoder (Decoder)           multiple                  1036      \n",
            "                                                                 \n",
            " constNet1 (ConstraintNet)   multiple                  864       \n",
            "                                                                 \n",
            " re_encoder (Encoder)        multiple                  968       \n",
            "                                                                 \n",
            " constNet2 (ConstraintNet)   multiple                  864       \n",
            "                                                                 \n",
            "=================================================================\n",
            "Total params: 4,700\n",
            "Trainable params: 4,700\n",
            "Non-trainable params: 0\n",
            "_________________________________________________________________\n",
            "mu:  Tensor(\"velc/encoder/z_mean/BiasAdd:0\", shape=(1, 4), dtype=float32)\n",
            "mu:  Tensor(\"velc/decoder/x_mean/BiasAdd:0\", shape=(1, 1, 4), dtype=float32)\n",
            "mu:  Tensor(\"velc/re_encoder/z_mean/BiasAdd:0\", shape=(1, 4), dtype=float32)\n",
            "1500/1500 [==============================] - 5s 3ms/step\n",
            "4824/4824 [==============================] - 13s 3ms/step\n"
          ]
        }
      ]
    },
    {
      "cell_type": "markdown",
      "source": [
        "# Вывод результатов\n",
        "Красная линия - начало аномалии в датасете\n",
        "\n",
        "Оранжевый график - anomaly score на тренировочном датасете\n",
        "\n",
        "Синий график - anomaly score на тестовом датасете"
      ],
      "metadata": {
        "id": "nw1zZ0jP5rrN"
      }
    },
    {
      "cell_type": "code",
      "source": [
        "plt.axvline(x=4500, ymin=0.0, ymax=1, color='r') # начало аномалии\n",
        "\n",
        "df_test_anomaly = pd.DataFrame()\n",
        "df_test_anomaly['test_anomaly'] = anomaly_score_test\n",
        "df_test_anomaly[df_test_anomaly.replace([np.inf, -np.inf], np.nan).notnull().all(axis=1)]\n",
        "df_test_anomaly['test_anomaly'] = df_test_anomaly['test_anomaly'].astype(float)\n",
        "df_test_anomaly['test_anomaly'].plot()\n",
        "\n",
        "df_train_anomaly = pd.DataFrame()\n",
        "df_train_anomaly['train_anomaly'] = anomaly_score_train\n",
        "df_train_anomaly[df_train_anomaly.replace([np.inf, -np.inf], np.nan).notnull().all(axis=1)]\n",
        "df_train_anomaly['train_anomaly'] = df_train_anomaly['train_anomaly'].astype(float)\n",
        "df_train_anomaly['train_anomaly'].plot()\n",
        "\n"
      ],
      "metadata": {
        "colab": {
          "base_uri": "https://localhost:8080/",
          "height": 282
        },
        "id": "KrhDqdXM0JW_",
        "outputId": "12c44283-2d8d-4a6e-aca9-192fb4b7cfeb"
      },
      "execution_count": 17,
      "outputs": [
        {
          "output_type": "execute_result",
          "data": {
            "text/plain": [
              "<matplotlib.axes._subplots.AxesSubplot at 0x7fa8f75fc190>"
            ]
          },
          "metadata": {},
          "execution_count": 17
        },
        {
          "output_type": "display_data",
          "data": {
            "text/plain": [
              "<Figure size 432x288 with 1 Axes>"
            ],
            "image/png": "[encoded data removed]"
          },
          "metadata": {
            "needs_background": "light"
          }
        }
      ]
    }
  ]
}